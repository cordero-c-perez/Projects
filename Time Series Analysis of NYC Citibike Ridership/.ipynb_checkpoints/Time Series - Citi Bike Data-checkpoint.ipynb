{
 "cells": [
  {
   "cell_type": "markdown",
   "metadata": {},
   "source": [
    "## Table of Contents <a id = Contents></a>\n",
    "* [1.0 Preliminary Work](#pre_work)\n",
    "    * [1.1 Context](#context)\n",
    "    * [1.2 Key Data Sources](#key-data-sources)\n",
    "    * [1.3 Problem Statement](#problem-statement)\n",
    "* [2.0 Exploratory Data Analysis (EDA)](#eda)\n",
    "    * [2.1 Cleaning](#cleaning)\n",
    "    * [2.2 Visualize](#vis)\n",
    "* [Models](#models)\n",
    "    * []()\n",
    "***"
   ]
  },
  {
   "cell_type": "markdown",
   "metadata": {},
   "source": [
    "<h2>1.0 Preliminary Work</h2> <a id = 'pre_work'></a>\n",
    "\n",
    "***"
   ]
  },
  {
   "cell_type": "markdown",
   "metadata": {},
   "source": [
    "<h3>1.1 Context</h3> <a id = 'context'></a>\n",
    "\n",
    "This project attempts to predict CitiBike monthly ridership for NYC via Time Series Analysis. While univariate time series analysis does perform well generally, real-world problems are often more complex and require analyzing contributing factors to forecast appropriately instead of purely based off trend. This project attempts to gather data sources that could correlate with monthly ridership and use a multivariate time series approach to make future predictions.\n"
   ]
  },
  {
   "cell_type": "markdown",
   "metadata": {},
   "source": [
    "<h3>1.2 Key Data Sources</h3><a id = key-data-sources></a>\n",
    "\n",
    "1. [CitiBike Trip Data](https://citibikenyc.com/system-data)\n",
    "\n",
    "The CitiBike website has the data available for download via Amazon S3 bucket zip files. The following code allows the user to read each zip file directly from the web and retrieve the monthly trip totals.\n"
   ]
  },
  {
   "cell_type": "code",
   "execution_count": 13,
   "metadata": {},
   "outputs": [],
   "source": [
    "import pandas as pd\n",
    "import numpy as np\n",
    "import matplotlib.pyplot as plt\n",
    "import urllib.request\n",
    "import re\n",
    "from io import BytesIO\n",
    "from zipfile import ZipFile"
   ]
  },
  {
   "cell_type": "code",
   "execution_count": null,
   "metadata": {},
   "outputs": [],
   "source": [
    "data = []\n",
    "df = pd.DataFrame()\n",
    "ct = -1\n",
    "\n",
    "\n",
    "for YY in range(2014,2017):\n",
    "    for MM in ['01','02','03','04','05','06','07','08','09','10','11','12']:\n",
    "        \n",
    "        url_string = f'https://s3.amazonaws.com/tripdata/{YY}{MM}-citibike-tripdata.zip'\n",
    "        url = urllib.request.urlopen(url_string)\n",
    "        \n",
    "        ct = -1\n",
    "        with ZipFile(BytesIO(url.read())) as my_zip_file:\n",
    "            for contained_file in my_zip_file.namelist():\n",
    "                for line in my_zip_file.open(contained_file).readlines():\n",
    "                    ct+=1\n",
    "                       \n",
    "        print(url_string, ct)\n",
    "        data.append(ct)\n",
    "        \n",
    "for YY in range(2017,2023):\n",
    "    for MM in ['01','02','03','04','05','06','07','08','09','10','11','12']:\n",
    "        \n",
    "        url_string = f'https://s3.amazonaws.com/tripdata/{YY}{MM}-citibike-tripdata.csv.zip'\n",
    "        url = urllib.request.urlopen(url_string)\n",
    "        \n",
    "        ct = -1\n",
    "        with ZipFile(BytesIO(url.read())) as my_zip_file:\n",
    "            for contained_file in my_zip_file.namelist():\n",
    "                for line in my_zip_file.open(contained_file).readlines():\n",
    "                    ct+=1\n",
    "                       \n",
    "        print(url_string, ct)\n",
    "        data.append(ct)"
   ]
  },
  {
   "cell_type": "markdown",
   "metadata": {},
   "source": [
    "2. [NYC Tourism Report](https://www.osc.state.ny.us/reports/osdc/tourism-industry-new-york-city)\n",
    "    * [Data](https://data.osc.ny.gov/views/TourismSectorStory/AnVisDB?%3Aembed_code_version=3&%3Aembed=y&%3AloadOrderID=4&%3Adisplay_spinner=no&%3AshowAppBanner=false&%3Atoolbar=no&%3Atabs=no)\n",
    "\n",
    "The Office of the State Comptroller under partnership with NYC & Company has annual data available via reports. Tourism is broken down into international and domestic with forecasts available for 2022-2023. The data has been compiled manually from these reports and annual data has been used to create monthly average data.\n",
    "\n",
    "**Note: This is a potential problem as we lose the seasonal decomposition of Tourism in NYC which we know exists. Therefore any correlations are more applicable to the underlying trend when decomposing the time series.**\n"
   ]
  },
  {
   "cell_type": "markdown",
   "metadata": {},
   "source": [
    "3. [NYC Population](https://data.census.gov)\n",
    "\n",
    "Population data was gathered from the United States Census Bureau. "
   ]
  },
  {
   "cell_type": "markdown",
   "metadata": {},
   "source": [
    "<h2><span style=\"color:darkred\">1.3 Problem Statement</span></h2><a id = problem-statement></a>\n",
    "\n",
    "**Can we accurately forecast Citibike ridership for the year? Can we do so in such a way that we can better identify trend derivative changes?**\n"
   ]
  },
  {
   "cell_type": "markdown",
   "metadata": {},
   "source": [
    " "
   ]
  },
  {
   "cell_type": "markdown",
   "metadata": {},
   "source": [
    "<h2>2.0 Exploratory Data Analysis (EDA)</h2><a id = eda></a>\n",
    "\n",
    "***"
   ]
  },
  {
   "cell_type": "markdown",
   "metadata": {},
   "source": [
    "<h3>2.1 Cleaning</h3> <a id = 'cleaning'></a>"
   ]
  },
  {
   "cell_type": "markdown",
   "metadata": {},
   "source": [
    "The data has been compiled manually from multiple sources and placed in an excel sheet."
   ]
  },
  {
   "cell_type": "code",
   "execution_count": 56,
   "metadata": {},
   "outputs": [],
   "source": [
    "df = pd.read_csv('../../Projects-Data/citibike_ts_data.csv', index_col = 'index', parse_dates=True)\n"
   ]
  },
  {
   "cell_type": "code",
   "execution_count": 57,
   "metadata": {},
   "outputs": [
    {
     "data": {
      "text/html": [
       "<div>\n",
       "<style scoped>\n",
       "    .dataframe tbody tr th:only-of-type {\n",
       "        vertical-align: middle;\n",
       "    }\n",
       "\n",
       "    .dataframe tbody tr th {\n",
       "        vertical-align: top;\n",
       "    }\n",
       "\n",
       "    .dataframe thead th {\n",
       "        text-align: right;\n",
       "    }\n",
       "</style>\n",
       "<table border=\"1\" class=\"dataframe\">\n",
       "  <thead>\n",
       "    <tr style=\"text-align: right;\">\n",
       "      <th></th>\n",
       "      <th>Unnamed: 0</th>\n",
       "      <th>trips</th>\n",
       "      <th>nyc_population</th>\n",
       "      <th>dom_tourism</th>\n",
       "      <th>int_tourism</th>\n",
       "    </tr>\n",
       "    <tr>\n",
       "      <th>index</th>\n",
       "      <th></th>\n",
       "      <th></th>\n",
       "      <th></th>\n",
       "      <th></th>\n",
       "      <th></th>\n",
       "    </tr>\n",
       "  </thead>\n",
       "  <tbody>\n",
       "    <tr>\n",
       "      <th>2014-01-28</th>\n",
       "      <td>0</td>\n",
       "      <td>300400</td>\n",
       "      <td>8433806.0</td>\n",
       "      <td>44.5</td>\n",
       "      <td>12.0</td>\n",
       "    </tr>\n",
       "    <tr>\n",
       "      <th>2014-02-28</th>\n",
       "      <td>1</td>\n",
       "      <td>224736</td>\n",
       "      <td>8433806.0</td>\n",
       "      <td>44.5</td>\n",
       "      <td>12.0</td>\n",
       "    </tr>\n",
       "    <tr>\n",
       "      <th>2014-03-28</th>\n",
       "      <td>2</td>\n",
       "      <td>439117</td>\n",
       "      <td>8433806.0</td>\n",
       "      <td>44.5</td>\n",
       "      <td>12.0</td>\n",
       "    </tr>\n",
       "    <tr>\n",
       "      <th>2014-04-28</th>\n",
       "      <td>3</td>\n",
       "      <td>670780</td>\n",
       "      <td>8433806.0</td>\n",
       "      <td>44.5</td>\n",
       "      <td>12.0</td>\n",
       "    </tr>\n",
       "    <tr>\n",
       "      <th>2014-05-28</th>\n",
       "      <td>4</td>\n",
       "      <td>866117</td>\n",
       "      <td>8433806.0</td>\n",
       "      <td>44.5</td>\n",
       "      <td>12.0</td>\n",
       "    </tr>\n",
       "  </tbody>\n",
       "</table>\n",
       "</div>"
      ],
      "text/plain": [
       "            Unnamed: 0   trips  nyc_population  dom_tourism  int_tourism\n",
       "index                                                                   \n",
       "2014-01-28           0  300400       8433806.0         44.5         12.0\n",
       "2014-02-28           1  224736       8433806.0         44.5         12.0\n",
       "2014-03-28           2  439117       8433806.0         44.5         12.0\n",
       "2014-04-28           3  670780       8433806.0         44.5         12.0\n",
       "2014-05-28           4  866117       8433806.0         44.5         12.0"
      ]
     },
     "execution_count": 57,
     "metadata": {},
     "output_type": "execute_result"
    }
   ],
   "source": [
    "df.head()"
   ]
  },
  {
   "cell_type": "code",
   "execution_count": 58,
   "metadata": {},
   "outputs": [
    {
     "name": "stdout",
     "output_type": "stream",
     "text": [
      "<class 'pandas.core.frame.DataFrame'>\n",
      "DatetimeIndex: 108 entries, 2014-01-28 to 2022-12-28\n",
      "Data columns (total 5 columns):\n",
      " #   Column          Non-Null Count  Dtype  \n",
      "---  ------          --------------  -----  \n",
      " 0   Unnamed: 0      108 non-null    int64  \n",
      " 1   trips           108 non-null    int64  \n",
      " 2   nyc_population  96 non-null     float64\n",
      " 3   dom_tourism     96 non-null     float64\n",
      " 4   int_tourism     96 non-null     float64\n",
      "dtypes: float64(3), int64(2)\n",
      "memory usage: 5.1 KB\n"
     ]
    }
   ],
   "source": [
    "df.info()"
   ]
  },
  {
   "cell_type": "code",
   "execution_count": 59,
   "metadata": {},
   "outputs": [],
   "source": [
    "df.drop(['Unnamed: 0'], axis=1, inplace=True)"
   ]
  },
  {
   "cell_type": "code",
   "execution_count": 60,
   "metadata": {},
   "outputs": [
    {
     "data": {
      "text/html": [
       "<div>\n",
       "<style scoped>\n",
       "    .dataframe tbody tr th:only-of-type {\n",
       "        vertical-align: middle;\n",
       "    }\n",
       "\n",
       "    .dataframe tbody tr th {\n",
       "        vertical-align: top;\n",
       "    }\n",
       "\n",
       "    .dataframe thead th {\n",
       "        text-align: right;\n",
       "    }\n",
       "</style>\n",
       "<table border=\"1\" class=\"dataframe\">\n",
       "  <thead>\n",
       "    <tr style=\"text-align: right;\">\n",
       "      <th></th>\n",
       "      <th>trips</th>\n",
       "      <th>nyc_population</th>\n",
       "      <th>dom_tourism</th>\n",
       "      <th>int_tourism</th>\n",
       "    </tr>\n",
       "    <tr>\n",
       "      <th>index</th>\n",
       "      <th></th>\n",
       "      <th></th>\n",
       "      <th></th>\n",
       "      <th></th>\n",
       "    </tr>\n",
       "  </thead>\n",
       "  <tbody>\n",
       "    <tr>\n",
       "      <th>2014-01-28</th>\n",
       "      <td>300400</td>\n",
       "      <td>8433806.0</td>\n",
       "      <td>44.5</td>\n",
       "      <td>12.0</td>\n",
       "    </tr>\n",
       "    <tr>\n",
       "      <th>2014-02-28</th>\n",
       "      <td>224736</td>\n",
       "      <td>8433806.0</td>\n",
       "      <td>44.5</td>\n",
       "      <td>12.0</td>\n",
       "    </tr>\n",
       "    <tr>\n",
       "      <th>2014-03-28</th>\n",
       "      <td>439117</td>\n",
       "      <td>8433806.0</td>\n",
       "      <td>44.5</td>\n",
       "      <td>12.0</td>\n",
       "    </tr>\n",
       "    <tr>\n",
       "      <th>2014-04-28</th>\n",
       "      <td>670780</td>\n",
       "      <td>8433806.0</td>\n",
       "      <td>44.5</td>\n",
       "      <td>12.0</td>\n",
       "    </tr>\n",
       "    <tr>\n",
       "      <th>2014-05-28</th>\n",
       "      <td>866117</td>\n",
       "      <td>8433806.0</td>\n",
       "      <td>44.5</td>\n",
       "      <td>12.0</td>\n",
       "    </tr>\n",
       "  </tbody>\n",
       "</table>\n",
       "</div>"
      ],
      "text/plain": [
       "             trips  nyc_population  dom_tourism  int_tourism\n",
       "index                                                       \n",
       "2014-01-28  300400       8433806.0         44.5         12.0\n",
       "2014-02-28  224736       8433806.0         44.5         12.0\n",
       "2014-03-28  439117       8433806.0         44.5         12.0\n",
       "2014-04-28  670780       8433806.0         44.5         12.0\n",
       "2014-05-28  866117       8433806.0         44.5         12.0"
      ]
     },
     "execution_count": 60,
     "metadata": {},
     "output_type": "execute_result"
    }
   ],
   "source": [
    "df.head()"
   ]
  },
  {
   "cell_type": "markdown",
   "metadata": {},
   "source": [
    "Tourism and Population are provided annually and I will take an average to get monthly values"
   ]
  },
  {
   "cell_type": "code",
   "execution_count": 61,
   "metadata": {},
   "outputs": [],
   "source": [
    "df['dom_tourism'] = (df['dom_tourism'] * (10**6)) / 12\n",
    "df['int_tourism'] = (df['int_tourism'] * (10**6)) / 12\n",
    "df['nyc_population'] = df['nyc_population'] / 12"
   ]
  },
  {
   "cell_type": "code",
   "execution_count": 62,
   "metadata": {},
   "outputs": [
    {
     "data": {
      "text/html": [
       "<div>\n",
       "<style scoped>\n",
       "    .dataframe tbody tr th:only-of-type {\n",
       "        vertical-align: middle;\n",
       "    }\n",
       "\n",
       "    .dataframe tbody tr th {\n",
       "        vertical-align: top;\n",
       "    }\n",
       "\n",
       "    .dataframe thead th {\n",
       "        text-align: right;\n",
       "    }\n",
       "</style>\n",
       "<table border=\"1\" class=\"dataframe\">\n",
       "  <thead>\n",
       "    <tr style=\"text-align: right;\">\n",
       "      <th></th>\n",
       "      <th>trips</th>\n",
       "      <th>nyc_population</th>\n",
       "      <th>dom_tourism</th>\n",
       "      <th>int_tourism</th>\n",
       "    </tr>\n",
       "    <tr>\n",
       "      <th>index</th>\n",
       "      <th></th>\n",
       "      <th></th>\n",
       "      <th></th>\n",
       "      <th></th>\n",
       "    </tr>\n",
       "  </thead>\n",
       "  <tbody>\n",
       "    <tr>\n",
       "      <th>2014-01-28</th>\n",
       "      <td>300400</td>\n",
       "      <td>702817.166667</td>\n",
       "      <td>3.708333e+06</td>\n",
       "      <td>1000000.0</td>\n",
       "    </tr>\n",
       "    <tr>\n",
       "      <th>2014-02-28</th>\n",
       "      <td>224736</td>\n",
       "      <td>702817.166667</td>\n",
       "      <td>3.708333e+06</td>\n",
       "      <td>1000000.0</td>\n",
       "    </tr>\n",
       "    <tr>\n",
       "      <th>2014-03-28</th>\n",
       "      <td>439117</td>\n",
       "      <td>702817.166667</td>\n",
       "      <td>3.708333e+06</td>\n",
       "      <td>1000000.0</td>\n",
       "    </tr>\n",
       "    <tr>\n",
       "      <th>2014-04-28</th>\n",
       "      <td>670780</td>\n",
       "      <td>702817.166667</td>\n",
       "      <td>3.708333e+06</td>\n",
       "      <td>1000000.0</td>\n",
       "    </tr>\n",
       "    <tr>\n",
       "      <th>2014-05-28</th>\n",
       "      <td>866117</td>\n",
       "      <td>702817.166667</td>\n",
       "      <td>3.708333e+06</td>\n",
       "      <td>1000000.0</td>\n",
       "    </tr>\n",
       "  </tbody>\n",
       "</table>\n",
       "</div>"
      ],
      "text/plain": [
       "             trips  nyc_population   dom_tourism  int_tourism\n",
       "index                                                        \n",
       "2014-01-28  300400   702817.166667  3.708333e+06    1000000.0\n",
       "2014-02-28  224736   702817.166667  3.708333e+06    1000000.0\n",
       "2014-03-28  439117   702817.166667  3.708333e+06    1000000.0\n",
       "2014-04-28  670780   702817.166667  3.708333e+06    1000000.0\n",
       "2014-05-28  866117   702817.166667  3.708333e+06    1000000.0"
      ]
     },
     "execution_count": 62,
     "metadata": {},
     "output_type": "execute_result"
    }
   ],
   "source": [
    "df.head()"
   ]
  },
  {
   "cell_type": "markdown",
   "metadata": {},
   "source": [
    "***"
   ]
  },
  {
   "cell_type": "markdown",
   "metadata": {},
   "source": [
    "<h3>2.2 Visualize </h3> <a id = 'vis'></a>"
   ]
  },
  {
   "cell_type": "code",
   "execution_count": 72,
   "metadata": {},
   "outputs": [
    {
     "data": {
      "image/png": "[encoded data removed]",
      "text/plain": [
       "<Figure size 864x720 with 4 Axes>"
      ]
     },
     "metadata": {
      "needs_background": "light"
     },
     "output_type": "display_data"
    },
    {
     "data": {
      "text/plain": [
       "<Figure size 864x720 with 0 Axes>"
      ]
     },
     "metadata": {},
     "output_type": "display_data"
    }
   ],
   "source": [
    "# 3 subplots\n",
    "fig, axs = plt.subplots(4,1, figsize=(12,10))\n",
    "fig.suptitle('Each Data Series')\n",
    "\n",
    "\n",
    "axs[0].plot(df.index, df.trips, label = \"Trips\")\n",
    "axs[1].plot(df.index, df.nyc_population, label = \"NYC Pop\")\n",
    "axs[2].plot(df.index, df.dom_tourism, label = \"Domestic Tourism\")\n",
    "axs[3].plot(df.index, df.int_tourism, label = \"International Tourism\")\n",
    "plt.legend()\n",
    "plt.show()"
   ]
  },
  {
   "cell_type": "code",
   "execution_count": 113,
   "metadata": {},
   "outputs": [],
   "source": [
    "# view the trips series in detail \n",
    "from statsmodels.tsa.seasonal import seasonal_decompose"
   ]
  },
  {
   "cell_type": "code",
   "execution_count": 121,
   "metadata": {},
   "outputs": [
    {
     "data": {
      "text/plain": [
       "<Figure size 864x720 with 0 Axes>"
      ]
     },
     "metadata": {},
     "output_type": "display_data"
    },
    {
     "data": {
      "image/png": "[encoded data removed]",
      "text/plain": [
       "<Figure size 432x288 with 4 Axes>"
      ]
     },
     "metadata": {
      "needs_background": "light"
     },
     "output_type": "display_data"
    }
   ],
   "source": [
    "plt.figure(figsize=(12,10))\n",
    "seasonal_decompose(df.trips, model='multiplicative', period=12).plot()\n",
    "plt.show()"
   ]
  },
  {
   "cell_type": "markdown",
   "metadata": {},
   "source": [
    "***"
   ]
  },
  {
   "cell_type": "markdown",
   "metadata": {},
   "source": [
    "<h3>2.3 Preliminary Analysis and Preprocessing</h3> <a id = 'pre_analysis'></a>"
   ]
  },
  {
   "cell_type": "code",
   "execution_count": 81,
   "metadata": {},
   "outputs": [],
   "source": [
    "# run the dickey fuller test on each series\n",
    "from statsmodels.tsa.stattools import adfuller"
   ]
  },
  {
   "cell_type": "markdown",
   "metadata": {},
   "source": [
    "Split into train and test sets. 2022 data will be used for test set."
   ]
  },
  {
   "cell_type": "code",
   "execution_count": 82,
   "metadata": {},
   "outputs": [],
   "source": [
    "train = df[df.index < pd.to_datetime('2022-01-01')]\n",
    "test = df[~(df.index < pd.to_datetime('2022-01-01'))]"
   ]
  },
  {
   "cell_type": "code",
   "execution_count": 95,
   "metadata": {},
   "outputs": [
    {
     "name": "stdout",
     "output_type": "stream",
     "text": [
      "stationarity check for: trips\n",
      "Critical Value: 0.5650389760506017\n",
      "p_value: 0.9867214384442311\n",
      "Not Stationary\n",
      "\n",
      "stationarity check for: nyc_population\n",
      "Critical Value: -2.3047495806469716\n",
      "p_value: 0.17044071277830408\n",
      "Not Stationary\n",
      "\n",
      "stationarity check for: dom_tourism\n",
      "Critical Value: -1.3949263305341066\n",
      "p_value: 0.5847060678316385\n",
      "Not Stationary\n",
      "\n",
      "stationarity check for: int_tourism\n",
      "Critical Value: -0.681250063125674\n",
      "p_value: 0.8515466024874319\n",
      "Not Stationary\n",
      "\n"
     ]
    }
   ],
   "source": [
    "for column in train.columns:\n",
    "    print(\"stationarity check for: \"+column)\n",
    "    \n",
    "    output = adfuller(train[column], autolag = 'AIC') # AIC criterion check\n",
    "    \n",
    "    print(f\"critical value: {output[0]}\")\n",
    "    print(f\"p_value: {output[1]}\")\n",
    "    \n",
    "    if output[1] < .05:\n",
    "        print(\"Stationary\\n\")\n",
    "    else:\n",
    "        print(\"Not Stationary\\n\")"
   ]
  },
  {
   "cell_type": "markdown",
   "metadata": {},
   "source": [
    "Normalize the data"
   ]
  },
  {
   "cell_type": "code",
   "execution_count": 97,
   "metadata": {},
   "outputs": [],
   "source": [
    "from sklearn.preprocessing import StandardScaler"
   ]
  },
  {
   "cell_type": "code",
   "execution_count": 103,
   "metadata": {},
   "outputs": [],
   "source": [
    "train_ss = pd.DataFrame(StandardScaler().fit_transform(train), index=train.index, columns=[train.columns])"
   ]
  },
  {
   "cell_type": "code",
   "execution_count": 104,
   "metadata": {},
   "outputs": [
    {
     "data": {
      "text/html": [
       "<div>\n",
       "<style scoped>\n",
       "    .dataframe tbody tr th:only-of-type {\n",
       "        vertical-align: middle;\n",
       "    }\n",
       "\n",
       "    .dataframe tbody tr th {\n",
       "        vertical-align: top;\n",
       "    }\n",
       "\n",
       "    .dataframe thead tr th {\n",
       "        text-align: left;\n",
       "    }\n",
       "\n",
       "    .dataframe thead tr:last-of-type th {\n",
       "        text-align: right;\n",
       "    }\n",
       "</style>\n",
       "<table border=\"1\" class=\"dataframe\">\n",
       "  <thead>\n",
       "    <tr>\n",
       "      <th></th>\n",
       "      <th>trips</th>\n",
       "      <th>nyc_population</th>\n",
       "      <th>dom_tourism</th>\n",
       "      <th>int_tourism</th>\n",
       "    </tr>\n",
       "    <tr>\n",
       "      <th>index</th>\n",
       "      <th></th>\n",
       "      <th></th>\n",
       "      <th></th>\n",
       "      <th></th>\n",
       "    </tr>\n",
       "  </thead>\n",
       "  <tbody>\n",
       "    <tr>\n",
       "      <th>2014-01-28</th>\n",
       "      <td>-1.542596</td>\n",
       "      <td>0.25644</td>\n",
       "      <td>0.150111</td>\n",
       "      <td>0.380804</td>\n",
       "    </tr>\n",
       "    <tr>\n",
       "      <th>2014-02-28</th>\n",
       "      <td>-1.649657</td>\n",
       "      <td>0.25644</td>\n",
       "      <td>0.150111</td>\n",
       "      <td>0.380804</td>\n",
       "    </tr>\n",
       "    <tr>\n",
       "      <th>2014-03-28</th>\n",
       "      <td>-1.346316</td>\n",
       "      <td>0.25644</td>\n",
       "      <td>0.150111</td>\n",
       "      <td>0.380804</td>\n",
       "    </tr>\n",
       "    <tr>\n",
       "      <th>2014-04-28</th>\n",
       "      <td>-1.018522</td>\n",
       "      <td>0.25644</td>\n",
       "      <td>0.150111</td>\n",
       "      <td>0.380804</td>\n",
       "    </tr>\n",
       "    <tr>\n",
       "      <th>2014-05-28</th>\n",
       "      <td>-0.742127</td>\n",
       "      <td>0.25644</td>\n",
       "      <td>0.150111</td>\n",
       "      <td>0.380804</td>\n",
       "    </tr>\n",
       "  </tbody>\n",
       "</table>\n",
       "</div>"
      ],
      "text/plain": [
       "               trips nyc_population dom_tourism int_tourism\n",
       "index                                                      \n",
       "2014-01-28 -1.542596        0.25644    0.150111    0.380804\n",
       "2014-02-28 -1.649657        0.25644    0.150111    0.380804\n",
       "2014-03-28 -1.346316        0.25644    0.150111    0.380804\n",
       "2014-04-28 -1.018522        0.25644    0.150111    0.380804\n",
       "2014-05-28 -0.742127        0.25644    0.150111    0.380804"
      ]
     },
     "execution_count": 104,
     "metadata": {},
     "output_type": "execute_result"
    }
   ],
   "source": [
    "train_ss.head()"
   ]
  },
  {
   "cell_type": "markdown",
   "metadata": {},
   "source": [
    "Visualize scaled time series"
   ]
  },
  {
   "cell_type": "code",
   "execution_count": 111,
   "metadata": {},
   "outputs": [
    {
     "data": {
      "image/png": "[encoded data removed]",
      "text/plain": [
       "<Figure size 432x288 with 1 Axes>"
      ]
     },
     "metadata": {
      "needs_background": "light"
     },
     "output_type": "display_data"
    },
    {
     "data": {
      "image/png": "[encoded data removed]",
      "text/plain": [
       "<Figure size 432x288 with 1 Axes>"
      ]
     },
     "metadata": {
      "needs_background": "light"
     },
     "output_type": "display_data"
    },
    {
     "data": {
      "image/png": "[encoded data removed]",
      "text/plain": [
       "<Figure size 432x288 with 1 Axes>"
      ]
     },
     "metadata": {
      "needs_background": "light"
     },
     "output_type": "display_data"
    },
    {
     "data": {
      "image/png": "[encoded data removed]",
      "text/plain": [
       "<Figure size 432x288 with 1 Axes>"
      ]
     },
     "metadata": {
      "needs_background": "light"
     },
     "output_type": "display_data"
    }
   ],
   "source": [
    "for column in train_ss.columns:\n",
    "    train_ss.plot(y=column)\n",
    "    plt.show()"
   ]
  },
  {
   "cell_type": "markdown",
   "metadata": {},
   "source": [
    "Take the difference to get a stationary time series"
   ]
  },
  {
   "cell_type": "code",
   "execution_count": 122,
   "metadata": {},
   "outputs": [],
   "source": [
    "train_ss_diff1 = train_ss.diff().dropna()"
   ]
  },
  {
   "cell_type": "code",
   "execution_count": 124,
   "metadata": {},
   "outputs": [
    {
     "data": {
      "image/png": "[encoded data removed]",
      "text/plain": [
       "<Figure size 432x288 with 1 Axes>"
      ]
     },
     "metadata": {
      "needs_background": "light"
     },
     "output_type": "display_data"
    }
   ],
   "source": [
    "train_ss_diff1.plot()\n",
    "plt.show()"
   ]
  },
  {
   "cell_type": "code",
   "execution_count": 125,
   "metadata": {},
   "outputs": [
    {
     "data": {
      "image/png": "[encoded data removed]",
      "text/plain": [
       "<Figure size 432x288 with 1 Axes>"
      ]
     },
     "metadata": {
      "needs_background": "light"
     },
     "output_type": "display_data"
    }
   ],
   "source": [
    "train_ss_diff2 = train_ss_diff1.diff().dropna()\n",
    "train_ss_diff2.plot()\n",
    "plt.show()"
   ]
  },
  {
   "cell_type": "markdown",
   "metadata": {},
   "source": [
    "test stationarity again"
   ]
  },
  {
   "cell_type": "code",
   "execution_count": 143,
   "metadata": {},
   "outputs": [
    {
     "data": {
      "text/html": [
       "<div>\n",
       "<style scoped>\n",
       "    .dataframe tbody tr th:only-of-type {\n",
       "        vertical-align: middle;\n",
       "    }\n",
       "\n",
       "    .dataframe tbody tr th {\n",
       "        vertical-align: top;\n",
       "    }\n",
       "\n",
       "    .dataframe thead tr th {\n",
       "        text-align: left;\n",
       "    }\n",
       "\n",
       "    .dataframe thead tr:last-of-type th {\n",
       "        text-align: right;\n",
       "    }\n",
       "</style>\n",
       "<table border=\"1\" class=\"dataframe\">\n",
       "  <thead>\n",
       "    <tr>\n",
       "      <th></th>\n",
       "      <th>trips</th>\n",
       "      <th>nyc_population</th>\n",
       "      <th>dom_tourism</th>\n",
       "      <th>int_tourism</th>\n",
       "    </tr>\n",
       "    <tr>\n",
       "      <th>index</th>\n",
       "      <th></th>\n",
       "      <th></th>\n",
       "      <th></th>\n",
       "      <th></th>\n",
       "    </tr>\n",
       "  </thead>\n",
       "  <tbody>\n",
       "    <tr>\n",
       "      <th>2014-03-28</th>\n",
       "      <td>0.410403</td>\n",
       "      <td>0.0</td>\n",
       "      <td>0.0</td>\n",
       "      <td>0.0</td>\n",
       "    </tr>\n",
       "    <tr>\n",
       "      <th>2014-04-28</th>\n",
       "      <td>0.024453</td>\n",
       "      <td>0.0</td>\n",
       "      <td>0.0</td>\n",
       "      <td>0.0</td>\n",
       "    </tr>\n",
       "    <tr>\n",
       "      <th>2014-05-28</th>\n",
       "      <td>-0.051400</td>\n",
       "      <td>0.0</td>\n",
       "      <td>0.0</td>\n",
       "      <td>0.0</td>\n",
       "    </tr>\n",
       "    <tr>\n",
       "      <th>2014-06-28</th>\n",
       "      <td>-0.176268</td>\n",
       "      <td>0.0</td>\n",
       "      <td>0.0</td>\n",
       "      <td>0.0</td>\n",
       "    </tr>\n",
       "    <tr>\n",
       "      <th>2014-07-28</th>\n",
       "      <td>-0.054902</td>\n",
       "      <td>0.0</td>\n",
       "      <td>0.0</td>\n",
       "      <td>0.0</td>\n",
       "    </tr>\n",
       "    <tr>\n",
       "      <th>...</th>\n",
       "      <td>...</td>\n",
       "      <td>...</td>\n",
       "      <td>...</td>\n",
       "      <td>...</td>\n",
       "    </tr>\n",
       "    <tr>\n",
       "      <th>2021-08-28</th>\n",
       "      <td>0.114734</td>\n",
       "      <td>0.0</td>\n",
       "      <td>0.0</td>\n",
       "      <td>0.0</td>\n",
       "    </tr>\n",
       "    <tr>\n",
       "      <th>2021-09-28</th>\n",
       "      <td>0.311020</td>\n",
       "      <td>0.0</td>\n",
       "      <td>0.0</td>\n",
       "      <td>0.0</td>\n",
       "    </tr>\n",
       "    <tr>\n",
       "      <th>2021-10-28</th>\n",
       "      <td>-0.592943</td>\n",
       "      <td>0.0</td>\n",
       "      <td>0.0</td>\n",
       "      <td>0.0</td>\n",
       "    </tr>\n",
       "    <tr>\n",
       "      <th>2021-11-28</th>\n",
       "      <td>-0.988529</td>\n",
       "      <td>0.0</td>\n",
       "      <td>0.0</td>\n",
       "      <td>0.0</td>\n",
       "    </tr>\n",
       "    <tr>\n",
       "      <th>2021-12-28</th>\n",
       "      <td>0.706001</td>\n",
       "      <td>0.0</td>\n",
       "      <td>0.0</td>\n",
       "      <td>0.0</td>\n",
       "    </tr>\n",
       "  </tbody>\n",
       "</table>\n",
       "<p>94 rows × 4 columns</p>\n",
       "</div>"
      ],
      "text/plain": [
       "               trips nyc_population dom_tourism int_tourism\n",
       "index                                                      \n",
       "2014-03-28  0.410403            0.0         0.0         0.0\n",
       "2014-04-28  0.024453            0.0         0.0         0.0\n",
       "2014-05-28 -0.051400            0.0         0.0         0.0\n",
       "2014-06-28 -0.176268            0.0         0.0         0.0\n",
       "2014-07-28 -0.054902            0.0         0.0         0.0\n",
       "...              ...            ...         ...         ...\n",
       "2021-08-28  0.114734            0.0         0.0         0.0\n",
       "2021-09-28  0.311020            0.0         0.0         0.0\n",
       "2021-10-28 -0.592943            0.0         0.0         0.0\n",
       "2021-11-28 -0.988529            0.0         0.0         0.0\n",
       "2021-12-28  0.706001            0.0         0.0         0.0\n",
       "\n",
       "[94 rows x 4 columns]"
      ]
     },
     "execution_count": 143,
     "metadata": {},
     "output_type": "execute_result"
    }
   ],
   "source": [
    "train_ss_diff2"
   ]
  },
  {
   "cell_type": "code",
   "execution_count": 149,
   "metadata": {},
   "outputs": [
    {
     "name": "stdout",
     "output_type": "stream",
     "text": [
      "stationarity check for: trips\n",
      "critical value: -8.218491593326183\n",
      "p_value: 6.525635865385327e-13\n",
      "Stationary\n",
      "\n",
      "stationarity check for: nyc_population\n",
      "critical value: -9.598682265555556\n",
      "p_value: 1.9469313826833368e-16\n",
      "Stationary\n",
      "\n",
      "stationarity check for: dom_tourism\n",
      "critical value: -9.608767322228868\n",
      "p_value: 1.8356468093258593e-16\n",
      "Stationary\n",
      "\n",
      "stationarity check for: int_tourism\n",
      "critical value: -9.663654935933337\n",
      "p_value: 1.3328547574100916e-16\n",
      "Stationary\n",
      "\n"
     ]
    }
   ],
   "source": [
    "train_ss_diff2.columns = train.columns\n",
    "\n",
    "for column in train_ss_diff1.columns:\n",
    "    print(\"stationarity check for: \"+column)\n",
    "    \n",
    "    output = adfuller(train_ss_diff1[column], autolag = 'AIC') # AIC criterion check\n",
    "    \n",
    "    print(f\"critical value: {output[0]}\")\n",
    "    print(f\"p_value: {output[1]}\")\n",
    "    \n",
    "    if output[1] < .05:\n",
    "        print(\"Stationary\\n\")\n",
    "    else:\n",
    "        print(\"Not Stationary\\n\")"
   ]
  },
  {
   "cell_type": "markdown",
   "metadata": {},
   "source": [
    "The series are now stationary"
   ]
  },
  {
   "cell_type": "markdown",
   "metadata": {},
   "source": [
    "<h2>3.0 Models </h2><a id = models></a>\n",
    "\n",
    "***"
   ]
  },
  {
   "cell_type": "markdown",
   "metadata": {},
   "source": [
    "Split into train and test sets. 2022 data will be used for test set."
   ]
  },
  {
   "cell_type": "code",
   "execution_count": 151,
   "metadata": {},
   "outputs": [
    {
     "data": {
      "text/html": [
       "<div>\n",
       "<style scoped>\n",
       "    .dataframe tbody tr th:only-of-type {\n",
       "        vertical-align: middle;\n",
       "    }\n",
       "\n",
       "    .dataframe tbody tr th {\n",
       "        vertical-align: top;\n",
       "    }\n",
       "\n",
       "    .dataframe thead th {\n",
       "        text-align: right;\n",
       "    }\n",
       "</style>\n",
       "<table border=\"1\" class=\"dataframe\">\n",
       "  <thead>\n",
       "    <tr style=\"text-align: right;\">\n",
       "      <th></th>\n",
       "      <th>trips</th>\n",
       "      <th>nyc_population</th>\n",
       "      <th>dom_tourism</th>\n",
       "      <th>int_tourism</th>\n",
       "    </tr>\n",
       "    <tr>\n",
       "      <th>index</th>\n",
       "      <th></th>\n",
       "      <th></th>\n",
       "      <th></th>\n",
       "      <th></th>\n",
       "    </tr>\n",
       "  </thead>\n",
       "  <tbody>\n",
       "    <tr>\n",
       "      <th>2014-02-28</th>\n",
       "      <td>-0.107062</td>\n",
       "      <td>0.0</td>\n",
       "      <td>0.0</td>\n",
       "      <td>0.0</td>\n",
       "    </tr>\n",
       "    <tr>\n",
       "      <th>2014-03-28</th>\n",
       "      <td>0.303341</td>\n",
       "      <td>0.0</td>\n",
       "      <td>0.0</td>\n",
       "      <td>0.0</td>\n",
       "    </tr>\n",
       "    <tr>\n",
       "      <th>2014-04-28</th>\n",
       "      <td>0.327794</td>\n",
       "      <td>0.0</td>\n",
       "      <td>0.0</td>\n",
       "      <td>0.0</td>\n",
       "    </tr>\n",
       "    <tr>\n",
       "      <th>2014-05-28</th>\n",
       "      <td>0.276394</td>\n",
       "      <td>0.0</td>\n",
       "      <td>0.0</td>\n",
       "      <td>0.0</td>\n",
       "    </tr>\n",
       "    <tr>\n",
       "      <th>2014-06-28</th>\n",
       "      <td>0.100127</td>\n",
       "      <td>0.0</td>\n",
       "      <td>0.0</td>\n",
       "      <td>0.0</td>\n",
       "    </tr>\n",
       "  </tbody>\n",
       "</table>\n",
       "</div>"
      ],
      "text/plain": [
       "               trips  nyc_population  dom_tourism  int_tourism\n",
       "index                                                         \n",
       "2014-02-28 -0.107062             0.0          0.0          0.0\n",
       "2014-03-28  0.303341             0.0          0.0          0.0\n",
       "2014-04-28  0.327794             0.0          0.0          0.0\n",
       "2014-05-28  0.276394             0.0          0.0          0.0\n",
       "2014-06-28  0.100127             0.0          0.0          0.0"
      ]
     },
     "execution_count": 151,
     "metadata": {},
     "output_type": "execute_result"
    }
   ],
   "source": [
    "train_ss_diff1.head()"
   ]
  },
  {
   "cell_type": "code",
   "execution_count": 152,
   "metadata": {},
   "outputs": [
    {
     "data": {
      "text/html": [
       "<div>\n",
       "<style scoped>\n",
       "    .dataframe tbody tr th:only-of-type {\n",
       "        vertical-align: middle;\n",
       "    }\n",
       "\n",
       "    .dataframe tbody tr th {\n",
       "        vertical-align: top;\n",
       "    }\n",
       "\n",
       "    .dataframe thead th {\n",
       "        text-align: right;\n",
       "    }\n",
       "</style>\n",
       "<table border=\"1\" class=\"dataframe\">\n",
       "  <thead>\n",
       "    <tr style=\"text-align: right;\">\n",
       "      <th></th>\n",
       "      <th>trips</th>\n",
       "      <th>nyc_population</th>\n",
       "      <th>dom_tourism</th>\n",
       "      <th>int_tourism</th>\n",
       "    </tr>\n",
       "    <tr>\n",
       "      <th>index</th>\n",
       "      <th></th>\n",
       "      <th></th>\n",
       "      <th></th>\n",
       "      <th></th>\n",
       "    </tr>\n",
       "  </thead>\n",
       "  <tbody>\n",
       "    <tr>\n",
       "      <th>2022-01-28</th>\n",
       "      <td>1052419</td>\n",
       "      <td>NaN</td>\n",
       "      <td>NaN</td>\n",
       "      <td>NaN</td>\n",
       "    </tr>\n",
       "    <tr>\n",
       "      <th>2022-02-28</th>\n",
       "      <td>1233715</td>\n",
       "      <td>NaN</td>\n",
       "      <td>NaN</td>\n",
       "      <td>NaN</td>\n",
       "    </tr>\n",
       "    <tr>\n",
       "      <th>2022-03-28</th>\n",
       "      <td>1893445</td>\n",
       "      <td>NaN</td>\n",
       "      <td>NaN</td>\n",
       "      <td>NaN</td>\n",
       "    </tr>\n",
       "    <tr>\n",
       "      <th>2022-04-28</th>\n",
       "      <td>2319614</td>\n",
       "      <td>NaN</td>\n",
       "      <td>NaN</td>\n",
       "      <td>NaN</td>\n",
       "    </tr>\n",
       "    <tr>\n",
       "      <th>2022-05-28</th>\n",
       "      <td>2940601</td>\n",
       "      <td>NaN</td>\n",
       "      <td>NaN</td>\n",
       "      <td>NaN</td>\n",
       "    </tr>\n",
       "  </tbody>\n",
       "</table>\n",
       "</div>"
      ],
      "text/plain": [
       "              trips  nyc_population  dom_tourism  int_tourism\n",
       "index                                                        \n",
       "2022-01-28  1052419             NaN          NaN          NaN\n",
       "2022-02-28  1233715             NaN          NaN          NaN\n",
       "2022-03-28  1893445             NaN          NaN          NaN\n",
       "2022-04-28  2319614             NaN          NaN          NaN\n",
       "2022-05-28  2940601             NaN          NaN          NaN"
      ]
     },
     "execution_count": 152,
     "metadata": {},
     "output_type": "execute_result"
    }
   ],
   "source": [
    "test.head()"
   ]
  },
  {
   "cell_type": "markdown",
   "metadata": {},
   "source": [
    "The trip data for the test set is present while the other features do not have the values for testing."
   ]
  },
  {
   "cell_type": "code",
   "execution_count": null,
   "metadata": {},
   "outputs": [],
   "source": []
  }
 ],
 "metadata": {
  "kernelspec": {
   "display_name": "Python 3",
   "language": "python",
   "name": "python3"
  },
  "language_info": {
   "codemirror_mode": {
    "name": "ipython",
    "version": 3
   },
   "file_extension": ".py",
   "mimetype": "text/x-python",
   "name": "python",
   "nbconvert_exporter": "python",
   "pygments_lexer": "ipython3",
   "version": "3.9.4"
  }
 },
 "nbformat": 4,
 "nbformat_minor": 4
}
