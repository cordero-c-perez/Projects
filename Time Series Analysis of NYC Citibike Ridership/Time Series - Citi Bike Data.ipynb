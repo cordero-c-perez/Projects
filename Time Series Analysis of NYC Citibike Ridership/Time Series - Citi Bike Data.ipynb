{
 "cells": [
  {
   "cell_type": "markdown",
   "metadata": {},
   "source": [
    "## Table of Contents <a id = Contents></a>\n",
    "* [1.0 Preliminary Work](#pre_work)\n",
    "    * [1.1 Context](#context)\n",
    "    * [1.2 Key Data Sources](#key-data-sources)\n",
    "    * [1.3 Problem Statement](#problem-statement)\n",
    "* [2.0 Exploratory Data Analysis (EDA)](#eda)\n",
    "    * [2.1 Cleaning](#cleaning)\n",
    "    * [2.2 Visualize](#vis)\n",
    "* [Models](#models)\n",
    "    * []()\n",
    "***"
   ]
  },
  {
   "cell_type": "markdown",
   "metadata": {},
   "source": [
    "<h2>1.0 Preliminary Work</h2> <a id = 'pre_work'></a>\n",
    "\n",
    "***"
   ]
  },
  {
   "cell_type": "markdown",
   "metadata": {},
   "source": [
    "<h3>1.1 Context</h3> <a id = 'context'></a>\n",
    "\n",
    "This project attempts to predict CitiBike monthly ridership for NYC via Time Series Analysis. While univariate time series analysis does perform well generally, real-world problems are often more complex and require analyzing contributing factors to forecast appropriately instead of purely based off trend. This project attempts to gather data sources that could correlate with monthly ridership and use a multivariate time series approach to make future predictions.\n"
   ]
  },
  {
   "cell_type": "markdown",
   "metadata": {},
   "source": [
    "<h3>1.2 Key Data Sources</h3><a id = key-data-sources></a>\n",
    "\n",
    "1. [CitiBike Trip Data](https://citibikenyc.com/system-data)\n",
    "\n",
    "The CitiBike website has the data available for download via Amazon S3 bucket zip files. The following code allows the user to read each zip file directly from the web and retrieve the monthly trip totals.\n"
   ]
  },
  {
   "cell_type": "code",
   "execution_count": 13,
   "metadata": {},
   "outputs": [],
   "source": [
    "import pandas as pd\n",
    "import numpy as np\n",
    "import matplotlib.pyplot as plt\n",
    "import urllib.request\n",
    "import re\n",
    "from io import BytesIO\n",
    "from zipfile import ZipFile"
   ]
  },
  {
   "cell_type": "code",
   "execution_count": null,
   "metadata": {},
   "outputs": [],
   "source": [
    "data = []\n",
    "df = pd.DataFrame()\n",
    "ct = -1\n",
    "\n",
    "\n",
    "for YY in range(2014,2017):\n",
    "    for MM in ['01','02','03','04','05','06','07','08','09','10','11','12']:\n",
    "        \n",
    "        url_string = f'https://s3.amazonaws.com/tripdata/{YY}{MM}-citibike-tripdata.zip'\n",
    "        url = urllib.request.urlopen(url_string)\n",
    "        \n",
    "        ct = -1\n",
    "        with ZipFile(BytesIO(url.read())) as my_zip_file:\n",
    "            for contained_file in my_zip_file.namelist():\n",
    "                for line in my_zip_file.open(contained_file).readlines():\n",
    "                    ct+=1\n",
    "                       \n",
    "        print(url_string, ct)\n",
    "        data.append(ct)\n",
    "        \n",
    "for YY in range(2017,2023):\n",
    "    for MM in ['01','02','03','04','05','06','07','08','09','10','11','12']:\n",
    "        \n",
    "        url_string = f'https://s3.amazonaws.com/tripdata/{YY}{MM}-citibike-tripdata.csv.zip'\n",
    "        url = urllib.request.urlopen(url_string)\n",
    "        \n",
    "        ct = -1\n",
    "        with ZipFile(BytesIO(url.read())) as my_zip_file:\n",
    "            for contained_file in my_zip_file.namelist():\n",
    "                for line in my_zip_file.open(contained_file).readlines():\n",
    "                    ct+=1\n",
    "                       \n",
    "        print(url_string, ct)\n",
    "        data.append(ct)"
   ]
  },
  {
   "cell_type": "markdown",
   "metadata": {},
   "source": [
    "2. [NYC Tourism Report](https://www.osc.state.ny.us/reports/osdc/tourism-industry-new-york-city)\n",
    "    * [Data](https://data.osc.ny.gov/views/TourismSectorStory/AnVisDB?%3Aembed_code_version=3&%3Aembed=y&%3AloadOrderID=4&%3Adisplay_spinner=no&%3AshowAppBanner=false&%3Atoolbar=no&%3Atabs=no)\n",
    "\n",
    "The Office of the State Comptroller under partnership with NYC & Company has annual data available via reports. Tourism is broken down into international and domestic with forecasts available for 2022-2023. The data has been compiled manually from these reports and annual data has been used to create monthly average data.\n",
    "\n",
    "**Note: This is a potential problem as we lose the seasonal decomposition of Tourism in NYC which we know exists. Therefore any correlations are more applicable to the underlying trend when decomposing the time series.**\n"
   ]
  },
  {
   "cell_type": "markdown",
   "metadata": {},
   "source": [
    "3. [NYC Population](https://data.census.gov)\n",
    "\n",
    "Population data was gathered from the United States Census Bureau. "
   ]
  },
  {
   "cell_type": "markdown",
   "metadata": {},
   "source": [
    "<h2><span style=\"color:darkred\">1.3 Problem Statement</span></h2><a id = problem-statement></a>\n",
    "\n",
    "**Can we accurately forecast Citibike ridership for the year? Can we do so in such a way that we can better identify trend derivative changes?**\n"
   ]
  },
  {
   "cell_type": "markdown",
   "metadata": {},
   "source": [
    " "
   ]
  },
  {
   "cell_type": "markdown",
   "metadata": {},
   "source": [
    "<h2>2.0 Exploratory Data Analysis (EDA)</h2><a id = eda></a>\n",
    "\n",
    "***"
   ]
  },
  {
   "cell_type": "markdown",
   "metadata": {},
   "source": [
    "<h3>2.1 Cleaning</h3> <a id = 'cleaning'></a>"
   ]
  },
  {
   "cell_type": "markdown",
   "metadata": {},
   "source": [
    "The data has been compiled manually from multiple sources and placed in an excel sheet."
   ]
  },
  {
   "cell_type": "code",
   "execution_count": 56,
   "metadata": {},
   "outputs": [],
   "source": [
    "df = pd.read_csv('../../Projects-Data/citibike_ts_data.csv', index_col = 'index', parse_dates=True)\n"
   ]
  },
  {
   "cell_type": "code",
   "execution_count": 57,
   "metadata": {},
   "outputs": [
    {
     "data": {
      "text/html": [
       "<div>\n",
       "<style scoped>\n",
       "    .dataframe tbody tr th:only-of-type {\n",
       "        vertical-align: middle;\n",
       "    }\n",
       "\n",
       "    .dataframe tbody tr th {\n",
       "        vertical-align: top;\n",
       "    }\n",
       "\n",
       "    .dataframe thead th {\n",
       "        text-align: right;\n",
       "    }\n",
       "</style>\n",
       "<table border=\"1\" class=\"dataframe\">\n",
       "  <thead>\n",
       "    <tr style=\"text-align: right;\">\n",
       "      <th></th>\n",
       "      <th>Unnamed: 0</th>\n",
       "      <th>trips</th>\n",
       "      <th>nyc_population</th>\n",
       "      <th>dom_tourism</th>\n",
       "      <th>int_tourism</th>\n",
       "    </tr>\n",
       "    <tr>\n",
       "      <th>index</th>\n",
       "      <th></th>\n",
       "      <th></th>\n",
       "      <th></th>\n",
       "      <th></th>\n",
       "      <th></th>\n",
       "    </tr>\n",
       "  </thead>\n",
       "  <tbody>\n",
       "    <tr>\n",
       "      <th>2014-01-28</th>\n",
       "      <td>0</td>\n",
       "      <td>300400</td>\n",
       "      <td>8433806.0</td>\n",
       "      <td>44.5</td>\n",
       "      <td>12.0</td>\n",
       "    </tr>\n",
       "    <tr>\n",
       "      <th>2014-02-28</th>\n",
       "      <td>1</td>\n",
       "      <td>224736</td>\n",
       "      <td>8433806.0</td>\n",
       "      <td>44.5</td>\n",
       "      <td>12.0</td>\n",
       "    </tr>\n",
       "    <tr>\n",
       "      <th>2014-03-28</th>\n",
       "      <td>2</td>\n",
       "      <td>439117</td>\n",
       "      <td>8433806.0</td>\n",
       "      <td>44.5</td>\n",
       "      <td>12.0</td>\n",
       "    </tr>\n",
       "    <tr>\n",
       "      <th>2014-04-28</th>\n",
       "      <td>3</td>\n",
       "      <td>670780</td>\n",
       "      <td>8433806.0</td>\n",
       "      <td>44.5</td>\n",
       "      <td>12.0</td>\n",
       "    </tr>\n",
       "    <tr>\n",
       "      <th>2014-05-28</th>\n",
       "      <td>4</td>\n",
       "      <td>866117</td>\n",
       "      <td>8433806.0</td>\n",
       "      <td>44.5</td>\n",
       "      <td>12.0</td>\n",
       "    </tr>\n",
       "  </tbody>\n",
       "</table>\n",
       "</div>"
      ],
      "text/plain": [
       "            Unnamed: 0   trips  nyc_population  dom_tourism  int_tourism\n",
       "index                                                                   \n",
       "2014-01-28           0  300400       8433806.0         44.5         12.0\n",
       "2014-02-28           1  224736       8433806.0         44.5         12.0\n",
       "2014-03-28           2  439117       8433806.0         44.5         12.0\n",
       "2014-04-28           3  670780       8433806.0         44.5         12.0\n",
       "2014-05-28           4  866117       8433806.0         44.5         12.0"
      ]
     },
     "execution_count": 57,
     "metadata": {},
     "output_type": "execute_result"
    }
   ],
   "source": [
    "df.head()"
   ]
  },
  {
   "cell_type": "code",
   "execution_count": 58,
   "metadata": {},
   "outputs": [
    {
     "name": "stdout",
     "output_type": "stream",
     "text": [
      "<class 'pandas.core.frame.DataFrame'>\n",
      "DatetimeIndex: 108 entries, 2014-01-28 to 2022-12-28\n",
      "Data columns (total 5 columns):\n",
      " #   Column          Non-Null Count  Dtype  \n",
      "---  ------          --------------  -----  \n",
      " 0   Unnamed: 0      108 non-null    int64  \n",
      " 1   trips           108 non-null    int64  \n",
      " 2   nyc_population  96 non-null     float64\n",
      " 3   dom_tourism     96 non-null     float64\n",
      " 4   int_tourism     96 non-null     float64\n",
      "dtypes: float64(3), int64(2)\n",
      "memory usage: 5.1 KB\n"
     ]
    }
   ],
   "source": [
    "df.info()"
   ]
  },
  {
   "cell_type": "code",
   "execution_count": 59,
   "metadata": {},
   "outputs": [],
   "source": [
    "df.drop(['Unnamed: 0'], axis=1, inplace=True)"
   ]
  },
  {
   "cell_type": "code",
   "execution_count": 60,
   "metadata": {},
   "outputs": [
    {
     "data": {
      "text/html": [
       "<div>\n",
       "<style scoped>\n",
       "    .dataframe tbody tr th:only-of-type {\n",
       "        vertical-align: middle;\n",
       "    }\n",
       "\n",
       "    .dataframe tbody tr th {\n",
       "        vertical-align: top;\n",
       "    }\n",
       "\n",
       "    .dataframe thead th {\n",
       "        text-align: right;\n",
       "    }\n",
       "</style>\n",
       "<table border=\"1\" class=\"dataframe\">\n",
       "  <thead>\n",
       "    <tr style=\"text-align: right;\">\n",
       "      <th></th>\n",
       "      <th>trips</th>\n",
       "      <th>nyc_population</th>\n",
       "      <th>dom_tourism</th>\n",
       "      <th>int_tourism</th>\n",
       "    </tr>\n",
       "    <tr>\n",
       "      <th>index</th>\n",
       "      <th></th>\n",
       "      <th></th>\n",
       "      <th></th>\n",
       "      <th></th>\n",
       "    </tr>\n",
       "  </thead>\n",
       "  <tbody>\n",
       "    <tr>\n",
       "      <th>2014-01-28</th>\n",
       "      <td>300400</td>\n",
       "      <td>8433806.0</td>\n",
       "      <td>44.5</td>\n",
       "      <td>12.0</td>\n",
       "    </tr>\n",
       "    <tr>\n",
       "      <th>2014-02-28</th>\n",
       "      <td>224736</td>\n",
       "      <td>8433806.0</td>\n",
       "      <td>44.5</td>\n",
       "      <td>12.0</td>\n",
       "    </tr>\n",
       "    <tr>\n",
       "      <th>2014-03-28</th>\n",
       "      <td>439117</td>\n",
       "      <td>8433806.0</td>\n",
       "      <td>44.5</td>\n",
       "      <td>12.0</td>\n",
       "    </tr>\n",
       "    <tr>\n",
       "      <th>2014-04-28</th>\n",
       "      <td>670780</td>\n",
       "      <td>8433806.0</td>\n",
       "      <td>44.5</td>\n",
       "      <td>12.0</td>\n",
       "    </tr>\n",
       "    <tr>\n",
       "      <th>2014-05-28</th>\n",
       "      <td>866117</td>\n",
       "      <td>8433806.0</td>\n",
       "      <td>44.5</td>\n",
       "      <td>12.0</td>\n",
       "    </tr>\n",
       "  </tbody>\n",
       "</table>\n",
       "</div>"
      ],
      "text/plain": [
       "             trips  nyc_population  dom_tourism  int_tourism\n",
       "index                                                       \n",
       "2014-01-28  300400       8433806.0         44.5         12.0\n",
       "2014-02-28  224736       8433806.0         44.5         12.0\n",
       "2014-03-28  439117       8433806.0         44.5         12.0\n",
       "2014-04-28  670780       8433806.0         44.5         12.0\n",
       "2014-05-28  866117       8433806.0         44.5         12.0"
      ]
     },
     "execution_count": 60,
     "metadata": {},
     "output_type": "execute_result"
    }
   ],
   "source": [
    "df.head()"
   ]
  },
  {
   "cell_type": "markdown",
   "metadata": {},
   "source": [
    "Tourism and Population are provided annually and I will take an average to get monthly values"
   ]
  },
  {
   "cell_type": "code",
   "execution_count": 61,
   "metadata": {},
   "outputs": [],
   "source": [
    "df['dom_tourism'] = (df['dom_tourism'] * (10**6)) / 12\n",
    "df['int_tourism'] = (df['int_tourism'] * (10**6)) / 12\n",
    "df['nyc_population'] = df['nyc_population'] / 12"
   ]
  },
  {
   "cell_type": "code",
   "execution_count": 62,
   "metadata": {},
   "outputs": [
    {
     "data": {
      "text/html": [
       "<div>\n",
       "<style scoped>\n",
       "    .dataframe tbody tr th:only-of-type {\n",
       "        vertical-align: middle;\n",
       "    }\n",
       "\n",
       "    .dataframe tbody tr th {\n",
       "        vertical-align: top;\n",
       "    }\n",
       "\n",
       "    .dataframe thead th {\n",
       "        text-align: right;\n",
       "    }\n",
       "</style>\n",
       "<table border=\"1\" class=\"dataframe\">\n",
       "  <thead>\n",
       "    <tr style=\"text-align: right;\">\n",
       "      <th></th>\n",
       "      <th>trips</th>\n",
       "      <th>nyc_population</th>\n",
       "      <th>dom_tourism</th>\n",
       "      <th>int_tourism</th>\n",
       "    </tr>\n",
       "    <tr>\n",
       "      <th>index</th>\n",
       "      <th></th>\n",
       "      <th></th>\n",
       "      <th></th>\n",
       "      <th></th>\n",
       "    </tr>\n",
       "  </thead>\n",
       "  <tbody>\n",
       "    <tr>\n",
       "      <th>2014-01-28</th>\n",
       "      <td>300400</td>\n",
       "      <td>702817.166667</td>\n",
       "      <td>3.708333e+06</td>\n",
       "      <td>1000000.0</td>\n",
       "    </tr>\n",
       "    <tr>\n",
       "      <th>2014-02-28</th>\n",
       "      <td>224736</td>\n",
       "      <td>702817.166667</td>\n",
       "      <td>3.708333e+06</td>\n",
       "      <td>1000000.0</td>\n",
       "    </tr>\n",
       "    <tr>\n",
       "      <th>2014-03-28</th>\n",
       "      <td>439117</td>\n",
       "      <td>702817.166667</td>\n",
       "      <td>3.708333e+06</td>\n",
       "      <td>1000000.0</td>\n",
       "    </tr>\n",
       "    <tr>\n",
       "      <th>2014-04-28</th>\n",
       "      <td>670780</td>\n",
       "      <td>702817.166667</td>\n",
       "      <td>3.708333e+06</td>\n",
       "      <td>1000000.0</td>\n",
       "    </tr>\n",
       "    <tr>\n",
       "      <th>2014-05-28</th>\n",
       "      <td>866117</td>\n",
       "      <td>702817.166667</td>\n",
       "      <td>3.708333e+06</td>\n",
       "      <td>1000000.0</td>\n",
       "    </tr>\n",
       "  </tbody>\n",
       "</table>\n",
       "</div>"
      ],
      "text/plain": [
       "             trips  nyc_population   dom_tourism  int_tourism\n",
       "index                                                        \n",
       "2014-01-28  300400   702817.166667  3.708333e+06    1000000.0\n",
       "2014-02-28  224736   702817.166667  3.708333e+06    1000000.0\n",
       "2014-03-28  439117   702817.166667  3.708333e+06    1000000.0\n",
       "2014-04-28  670780   702817.166667  3.708333e+06    1000000.0\n",
       "2014-05-28  866117   702817.166667  3.708333e+06    1000000.0"
      ]
     },
     "execution_count": 62,
     "metadata": {},
     "output_type": "execute_result"
    }
   ],
   "source": [
    "df.head()"
   ]
  },
  {
   "cell_type": "markdown",
   "metadata": {},
   "source": [
    "***"
   ]
  },
  {
   "cell_type": "markdown",
   "metadata": {},
   "source": [
    "<h3>2.2 Visualize </h3> <a id = 'vis'></a>"
   ]
  },
  {
   "cell_type": "code",
   "execution_count": 72,
   "metadata": {},
   "outputs": [
    {
     "data": {
      "image/png": "[encoded data removed]",
      "text/plain": [
       "<Figure size 864x720 with 4 Axes>"
      ]
     },
     "metadata": {
      "needs_background": "light"
     },
     "output_type": "display_data"
    },
    {
     "data": {
      "text/plain": [
       "<Figure size 864x720 with 0 Axes>"
      ]
     },
     "metadata": {},
     "output_type": "display_data"
    }
   ],
   "source": [
    "# 3 subplots\n",
    "fig, axs = plt.subplots(4,1, figsize=(12,10))\n",
    "fig.suptitle('Each Data Series')\n",
    "\n",
    "\n",
    "axs[0].plot(df.index, df.trips, label = \"Trips\")\n",
    "axs[1].plot(df.index, df.nyc_population, label = \"NYC Pop\")\n",
    "axs[2].plot(df.index, df.dom_tourism, label = \"Domestic Tourism\")\n",
    "axs[3].plot(df.index, df.int_tourism, label = \"International Tourism\")\n",
    "plt.legend()\n",
    "plt.show()"
   ]
  },
  {
   "cell_type": "code",
   "execution_count": 113,
   "metadata": {},
   "outputs": [],
   "source": [
    "# view the trips series in detail \n",
    "from statsmodels.tsa.seasonal import seasonal_decompose"
   ]
  },
  {
   "cell_type": "code",
   "execution_count": 121,
   "metadata": {},
   "outputs": [
    {
     "data": {
      "text/plain": [
       "<Figure size 864x720 with 0 Axes>"
      ]
     },
     "metadata": {},
     "output_type": "display_data"
    },
    {
     "data": {
      "image/png": "[encoded data removed]",
      "text/plain": [
       "<Figure size 432x288 with 4 Axes>"
      ]
     },
     "metadata": {
      "needs_background": "light"
     },
     "output_type": "display_data"
    }
   ],
   "source": [
    "plt.figure(figsize=(12,10))\n",
    "seasonal_decompose(df.trips, model='multiplicative', period=12).plot()\n",
    "plt.show()"
   ]
  },
  {
   "cell_type": "markdown",
   "metadata": {},
   "source": [
    "***"
   ]
  },
  {
   "cell_type": "markdown",
   "metadata": {},
   "source": [
    "<h3>2.3 Preliminary Analysis and Preprocessing</h3> <a id = 'pre_analysis'></a>"
   ]
  },
  {
   "cell_type": "code",
   "execution_count": 81,
   "metadata": {},
   "outputs": [],
   "source": [
    "# run the dickey fuller test on each series\n",
    "from statsmodels.tsa.stattools import adfuller"
   ]
  },
  {
   "cell_type": "markdown",
   "metadata": {},
   "source": [
    "Split into train and test sets. 2022 data will be used for test set."
   ]
  },
  {
   "cell_type": "code",
   "execution_count": 82,
   "metadata": {},
   "outputs": [],
   "source": [
    "train = df[df.index < pd.to_datetime('2022-01-01')]\n",
    "test = df[~(df.index < pd.to_datetime('2022-01-01'))]"
   ]
  },
  {
   "cell_type": "code",
   "execution_count": 95,
   "metadata": {},
   "outputs": [
    {
     "name": "stdout",
     "output_type": "stream",
     "text": [
      "stationarity check for: trips\n",
      "Critical Value: 0.5650389760506017\n",
      "p_value: 0.9867214384442311\n",
      "Not Stationary\n",
      "\n",
      "stationarity check for: nyc_population\n",
      "Critical Value: -2.3047495806469716\n",
      "p_value: 0.17044071277830408\n",
      "Not Stationary\n",
      "\n",
      "stationarity check for: dom_tourism\n",
      "Critical Value: -1.3949263305341066\n",
      "p_value: 0.5847060678316385\n",
      "Not Stationary\n",
      "\n",
      "stationarity check for: int_tourism\n",
      "Critical Value: -0.681250063125674\n",
      "p_value: 0.8515466024874319\n",
      "Not Stationary\n",
      "\n"
     ]
    }
   ],
   "source": [
    "for column in train.columns:\n",
    "    print(\"stationarity check for: \"+column)\n",
    "    \n",
    "    output = adfuller(train[column], autolag = 'AIC') # AIC criterion check\n",
    "    \n",
    "    print(f\"critical value: {output[0]}\")\n",
    "    print(f\"p_value: {output[1]}\")\n",
    "    \n",
    "    if output[1] < .05:\n",
    "        print(\"Stationary\\n\")\n",
    "    else:\n",
    "        print(\"Not Stationary\\n\")"
   ]
  },
  {
   "cell_type": "markdown",
   "metadata": {},
   "source": [
    "Normalize the data"
   ]
  },
  {
   "cell_type": "code",
   "execution_count": 97,
   "metadata": {},
   "outputs": [],
   "source": [
    "from sklearn.preprocessing import StandardScaler"
   ]
  },
  {
   "cell_type": "code",
   "execution_count": 103,
   "metadata": {},
   "outputs": [],
   "source": [
    "train_ss = pd.DataFrame(StandardScaler().fit_transform(train), index=train.index, columns=[train.columns])"
   ]
  },
  {
   "cell_type": "code",
   "execution_count": 104,
   "metadata": {},
   "outputs": [
    {
     "data": {
      "text/html": [
       "<div>\n",
       "<style scoped>\n",
       "    .dataframe tbody tr th:only-of-type {\n",
       "        vertical-align: middle;\n",
       "    }\n",
       "\n",
       "    .dataframe tbody tr th {\n",
       "        vertical-align: top;\n",
       "    }\n",
       "\n",
       "    .dataframe thead tr th {\n",
       "        text-align: left;\n",
       "    }\n",
       "\n",
       "    .dataframe thead tr:last-of-type th {\n",
       "        text-align: right;\n",
       "    }\n",
       "</style>\n",
       "<table border=\"1\" class=\"dataframe\">\n",
       "  <thead>\n",
       "    <tr>\n",
       "      <th></th>\n",
       "      <th>trips</th>\n",
       "      <th>nyc_population</th>\n",
       "      <th>dom_tourism</th>\n",
       "      <th>int_tourism</th>\n",
       "    </tr>\n",
       "    <tr>\n",
       "      <th>index</th>\n",
       "      <th></th>\n",
       "      <th></th>\n",
       "      <th></th>\n",
       "      <th></th>\n",
       "    </tr>\n",
       "  </thead>\n",
       "  <tbody>\n",
       "    <tr>\n",
       "      <th>2014-01-28</th>\n",
       "      <td>-1.542596</td>\n",
       "      <td>0.25644</td>\n",
       "      <td>0.150111</td>\n",
       "      <td>0.380804</td>\n",
       "    </tr>\n",
       "    <tr>\n",
       "      <th>2014-02-28</th>\n",
       "      <td>-1.649657</td>\n",
       "      <td>0.25644</td>\n",
       "      <td>0.150111</td>\n",
       "      <td>0.380804</td>\n",
       "    </tr>\n",
       "    <tr>\n",
       "      <th>2014-03-28</th>\n",
       "      <td>-1.346316</td>\n",
       "      <td>0.25644</td>\n",
       "      <td>0.150111</td>\n",
       "      <td>0.380804</td>\n",
       "    </tr>\n",
       "    <tr>\n",
       "      <th>2014-04-28</th>\n",
       "      <td>-1.018522</td>\n",
       "      <td>0.25644</td>\n",
       "      <td>0.150111</td>\n",
       "      <td>0.380804</td>\n",
       "    </tr>\n",
       "    <tr>\n",
       "      <th>2014-05-28</th>\n",
       "      <td>-0.742127</td>\n",
       "      <td>0.25644</td>\n",
       "      <td>0.150111</td>\n",
       "      <td>0.380804</td>\n",
       "    </tr>\n",
       "  </tbody>\n",
       "</table>\n",
       "</div>"
      ],
      "text/plain": [
       "               trips nyc_population dom_tourism int_tourism\n",
       "index                                                      \n",
       "2014-01-28 -1.542596        0.25644    0.150111    0.380804\n",
       "2014-02-28 -1.649657        0.25644    0.150111    0.380804\n",
       "2014-03-28 -1.346316        0.25644    0.150111    0.380804\n",
       "2014-04-28 -1.018522        0.25644    0.150111    0.380804\n",
       "2014-05-28 -0.742127        0.25644    0.150111    0.380804"
      ]
     },
     "execution_count": 104,
     "metadata": {},
     "output_type": "execute_result"
    }
   ],
   "source": [
    "train_ss.head()"
   ]
  },
  {
   "cell_type": "markdown",
   "metadata": {},
   "source": [
    "Visualize scaled time series"
   ]
  },
  {
   "cell_type": "code",
   "execution_count": 111,
   "metadata": {},
   "outputs": [
    {
     "data": {
      "image/png": "[encoded data removed]",
      "text/plain": [
       "<Figure size 432x288 with 1 Axes>"
      ]
     },
     "metadata": {
      "needs_background": "light"
     },
     "output_type": "display_data"
    },
    {
     "data": {
      "image/png": "[encoded data removed]",
      "text/plain": [
       "<Figure size 432x288 with 1 Axes>"
      ]
     },
     "metadata": {
      "needs_background": "light"
     },
     "output_type": "display_data"
    },
    {
     "data": {
      "image/png": "[encoded data removed]",
      "text/plain": [
       "<Figure size 432x288 with 1 Axes>"
      ]
     },
     "metadata": {
      "needs_background": "light"
     },
     "output_type": "display_data"
    },
    {
     "data": {
      "image/png": "[encoded data removed]",
      "text/plain": [
       "<Figure size 432x288 with 1 Axes>"
      ]
     },
     "metadata": {
      "needs_background": "light"
     },
     "output_type": "display_data"
    }
   ],
   "source": [
    "for column in train_ss.columns:\n",
    "    train_ss.plot(y=column)\n",
    "    plt.show()"
   ]
  },
  {
   "cell_type": "markdown",
   "metadata": {},
   "source": [
    "Take the difference to get a stationary time series"
   ]
  },
  {
   "cell_type": "code",
   "execution_count": 122,
   "metadata": {},
   "outputs": [],
   "source": [
    "train_ss_diff1 = train_ss.diff().dropna()"
   ]
  },
  {
   "cell_type": "code",
   "execution_count": 124,
   "metadata": {},
   "outputs": [
    {
     "data": {
      "image/png": "[encoded data removed]",
      "text/plain": [
       "<Figure size 432x288 with 1 Axes>"
      ]
     },
     "metadata": {
      "needs_background": "light"
     },
     "output_type": "display_data"
    }
   ],
   "source": [
    "train_ss_diff1.plot()\n",
    "plt.show()"
   ]
  },
  {
   "cell_type": "code",
   "execution_count": 125,
   "metadata": {},
   "outputs": [
    {
     "data": {
      "image/png": "[encoded data removed]",
      "text/plain": [
       "<Figure size 432x288 with 1 Axes>"
      ]
     },
     "metadata": {
      "needs_background": "light"
     },
     "output_type": "display_data"
    }
   ],
   "source": [
    "train_ss_diff2 = train_ss_diff1.diff().dropna()\n",
    "train_ss_diff2.plot()\n",
    "plt.show()"
   ]
  },
  {
   "cell_type": "markdown",
   "metadata": {},
   "source": [
    "test stationarity again"
   ]
  },
  {
   "cell_type": "code",
   "execution_count": 143,
   "metadata": {},
   "outputs": [
    {
     "data": {
      "text/html": [
       "<div>\n",
       "<style scoped>\n",
       "    .dataframe tbody tr th:only-of-type {\n",
       "        vertical-align: middle;\n",
       "    }\n",
       "\n",
       "    .dataframe tbody tr th {\n",
       "        vertical-align: top;\n",
       "    }\n",
       "\n",
       "    .dataframe thead tr th {\n",
       "        text-align: left;\n",
       "    }\n",
       "\n",
       "    .dataframe thead tr:last-of-type th {\n",
       "        text-align: right;\n",
       "    }\n",
       "</style>\n",
       "<table border=\"1\" class=\"dataframe\">\n",
       "  <thead>\n",
       "    <tr>\n",
       "      <th></th>\n",
       "      <th>trips</th>\n",
       "      <th>nyc_population</th>\n",
       "      <th>dom_tourism</th>\n",
       "      <th>int_tourism</th>\n",
       "    </tr>\n",
       "    <tr>\n",
       "      <th>index</th>\n",
       "      <th></th>\n",
       "      <th></th>\n",
       "      <th></th>\n",
       "      <th></th>\n",
       "    </tr>\n",
       "  </thead>\n",
       "  <tbody>\n",
       "    <tr>\n",
       "      <th>2014-03-28</th>\n",
       "      <td>0.410403</td>\n",
       "      <td>0.0</td>\n",
       "      <td>0.0</td>\n",
       "      <td>0.0</td>\n",
       "    </tr>\n",
       "    <tr>\n",
       "      <th>2014-04-28</th>\n",
       "      <td>0.024453</td>\n",
       "      <td>0.0</td>\n",
       "      <td>0.0</td>\n",
       "      <td>0.0</td>\n",
       "    </tr>\n",
       "    <tr>\n",
       "      <th>2014-05-28</th>\n",
       "      <td>-0.051400</td>\n",
       "      <td>0.0</td>\n",
       "      <td>0.0</td>\n",
       "      <td>0.0</td>\n",
       "    </tr>\n",
       "    <tr>\n",
       "      <th>2014-06-28</th>\n",
       "      <td>-0.176268</td>\n",
       "      <td>0.0</td>\n",
       "      <td>0.0</td>\n",
       "      <td>0.0</td>\n",
       "    </tr>\n",
       "    <tr>\n",
       "      <th>2014-07-28</th>\n",
       "      <td>-0.054902</td>\n",
       "      <td>0.0</td>\n",
       "      <td>0.0</td>\n",
       "      <td>0.0</td>\n",
       "    </tr>\n",
       "    <tr>\n",
       "      <th>...</th>\n",
       "      <td>...</td>\n",
       "      <td>...</td>\n",
       "      <td>...</td>\n",
       "      <td>...</td>\n",
       "    </tr>\n",
       "    <tr>\n",
       "      <th>2021-08-28</th>\n",
       "      <td>0.114734</td>\n",
       "      <td>0.0</td>\n",
       "      <td>0.0</td>\n",
       "      <td>0.0</td>\n",
       "    </tr>\n",
       "    <tr>\n",
       "      <th>2021-09-28</th>\n",
       "      <td>0.311020</td>\n",
       "      <td>0.0</td>\n",
       "      <td>0.0</td>\n",
       "      <td>0.0</td>\n",
       "    </tr>\n",
       "    <tr>\n",
       "      <th>2021-10-28</th>\n",
       "      <td>-0.592943</td>\n",
       "      <td>0.0</td>\n",
       "      <td>0.0</td>\n",
       "      <td>0.0</td>\n",
       "    </tr>\n",
       "    <tr>\n",
       "      <th>2021-11-28</th>\n",
       "      <td>-0.988529</td>\n",
       "      <td>0.0</td>\n",
       "      <td>0.0</td>\n",
       "      <td>0.0</td>\n",
       "    </tr>\n",
       "    <tr>\n",
       "      <th>2021-12-28</th>\n",
       "      <td>0.706001</td>\n",
       "      <td>0.0</td>\n",
       "      <td>0.0</td>\n",
       "      <td>0.0</td>\n",
       "    </tr>\n",
       "  </tbody>\n",
       "</table>\n",
       "<p>94 rows × 4 columns</p>\n",
       "</div>"
      ],
      "text/plain": [
       "               trips nyc_population dom_tourism int_tourism\n",
       "index                                                      \n",
       "2014-03-28  0.410403            0.0         0.0         0.0\n",
       "2014-04-28  0.024453            0.0         0.0         0.0\n",
       "2014-05-28 -0.051400            0.0         0.0         0.0\n",
       "2014-06-28 -0.176268            0.0         0.0         0.0\n",
       "2014-07-28 -0.054902            0.0         0.0         0.0\n",
       "...              ...            ...         ...         ...\n",
       "2021-08-28  0.114734            0.0         0.0         0.0\n",
       "2021-09-28  0.311020            0.0         0.0         0.0\n",
       "2021-10-28 -0.592943            0.0         0.0         0.0\n",
       "2021-11-28 -0.988529            0.0         0.0         0.0\n",
       "2021-12-28  0.706001            0.0         0.0         0.0\n",
       "\n",
       "[94 rows x 4 columns]"
      ]
     },
     "execution_count": 143,
     "metadata": {},
     "output_type": "execute_result"
    }
   ],
   "source": [
    "train_ss_diff2"
   ]
  },
  {
   "cell_type": "code",
   "execution_count": 149,
   "metadata": {},
   "outputs": [
    {
     "name": "stdout",
     "output_type": "stream",
     "text": [
      "stationarity check for: trips\n",
      "critical value: -8.218491593326183\n",
      "p_value: 6.525635865385327e-13\n",
      "Stationary\n",
      "\n",
      "stationarity check for: nyc_population\n",
      "critical value: -9.598682265555556\n",
      "p_value: 1.9469313826833368e-16\n",
      "Stationary\n",
      "\n",
      "stationarity check for: dom_tourism\n",
      "critical value: -9.608767322228868\n",
      "p_value: 1.8356468093258593e-16\n",
      "Stationary\n",
      "\n",
      "stationarity check for: int_tourism\n",
      "critical value: -9.663654935933337\n",
      "p_value: 1.3328547574100916e-16\n",
      "Stationary\n",
      "\n"
     ]
    }
   ],
   "source": [
    "train_ss_diff2.columns = train.columns\n",
    "\n",
    "for column in train_ss_diff1.columns:\n",
    "    print(\"stationarity check for: \"+column)\n",
    "    \n",
    "    output = adfuller(train_ss_diff1[column], autolag = 'AIC') # AIC criterion check\n",
    "    \n",
    "    print(f\"critical value: {output[0]}\")\n",
    "    print(f\"p_value: {output[1]}\")\n",
    "    \n",
    "    if output[1] < .05:\n",
    "        print(\"Stationary\\n\")\n",
    "    else:\n",
    "        print(\"Not Stationary\\n\")"
   ]
  },
  {
   "cell_type": "markdown",
   "metadata": {},
   "source": [
    "The series are now stationary"
   ]
  },
  {
   "cell_type": "markdown",
   "metadata": {},
   "source": [
    "<h2>3.0 Models </h2><a id = models></a>\n",
    "\n",
    "***"
   ]
  },
  {
   "cell_type": "markdown",
   "metadata": {},
   "source": [
    "Split into train and test sets. 2022 data will be used for test set."
   ]
  },
  {
   "cell_type": "code",
   "execution_count": 151,
   "metadata": {},
   "outputs": [
    {
     "data": {
      "text/html": [
       "<div>\n",
       "<style scoped>\n",
       "    .dataframe tbody tr th:only-of-type {\n",
       "        vertical-align: middle;\n",
       "    }\n",
       "\n",
       "    .dataframe tbody tr th {\n",
       "        vertical-align: top;\n",
       "    }\n",
       "\n",
       "    .dataframe thead th {\n",
       "        text-align: right;\n",
       "    }\n",
       "</style>\n",
       "<table border=\"1\" class=\"dataframe\">\n",
       "  <thead>\n",
       "    <tr style=\"text-align: right;\">\n",
       "      <th></th>\n",
       "      <th>trips</th>\n",
       "      <th>nyc_population</th>\n",
       "      <th>dom_tourism</th>\n",
       "      <th>int_tourism</th>\n",
       "    </tr>\n",
       "    <tr>\n",
       "      <th>index</th>\n",
       "      <th></th>\n",
       "      <th></th>\n",
       "      <th></th>\n",
       "      <th></th>\n",
       "    </tr>\n",
       "  </thead>\n",
       "  <tbody>\n",
       "    <tr>\n",
       "      <th>2014-02-28</th>\n",
       "      <td>-0.107062</td>\n",
       "      <td>0.0</td>\n",
       "      <td>0.0</td>\n",
       "      <td>0.0</td>\n",
       "    </tr>\n",
       "    <tr>\n",
       "      <th>2014-03-28</th>\n",
       "      <td>0.303341</td>\n",
       "      <td>0.0</td>\n",
       "      <td>0.0</td>\n",
       "      <td>0.0</td>\n",
       "    </tr>\n",
       "    <tr>\n",
       "      <th>2014-04-28</th>\n",
       "      <td>0.327794</td>\n",
       "      <td>0.0</td>\n",
       "      <td>0.0</td>\n",
       "      <td>0.0</td>\n",
       "    </tr>\n",
       "    <tr>\n",
       "      <th>2014-05-28</th>\n",
       "      <td>0.276394</td>\n",
       "      <td>0.0</td>\n",
       "      <td>0.0</td>\n",
       "      <td>0.0</td>\n",
       "    </tr>\n",
       "    <tr>\n",
       "      <th>2014-06-28</th>\n",
       "      <td>0.100127</td>\n",
       "      <td>0.0</td>\n",
       "      <td>0.0</td>\n",
       "      <td>0.0</td>\n",
       "    </tr>\n",
       "  </tbody>\n",
       "</table>\n",
       "</div>"
      ],
      "text/plain": [
       "               trips  nyc_population  dom_tourism  int_tourism\n",
       "index                                                         \n",
       "2014-02-28 -0.107062             0.0          0.0          0.0\n",
       "2014-03-28  0.303341             0.0          0.0          0.0\n",
       "2014-04-28  0.327794             0.0          0.0          0.0\n",
       "2014-05-28  0.276394             0.0          0.0          0.0\n",
       "2014-06-28  0.100127             0.0          0.0          0.0"
      ]
     },
     "execution_count": 151,
     "metadata": {},
     "output_type": "execute_result"
    }
   ],
   "source": [
    "train_ss_diff1.head()"
   ]
  },
  {
   "cell_type": "code",
   "execution_count": 152,
   "metadata": {},
   "outputs": [
    {
     "data": {
      "text/html": [
       "<div>\n",
       "<style scoped>\n",
       "    .dataframe tbody tr th:only-of-type {\n",
       "        vertical-align: middle;\n",
       "    }\n",
       "\n",
       "    .dataframe tbody tr th {\n",
       "        vertical-align: top;\n",
       "    }\n",
       "\n",
       "    .dataframe thead th {\n",
       "        text-align: right;\n",
       "    }\n",
       "</style>\n",
       "<table border=\"1\" class=\"dataframe\">\n",
       "  <thead>\n",
       "    <tr style=\"text-align: right;\">\n",
       "      <th></th>\n",
       "      <th>trips</th>\n",
       "      <th>nyc_population</th>\n",
       "      <th>dom_tourism</th>\n",
       "      <th>int_tourism</th>\n",
       "    </tr>\n",
       "    <tr>\n",
       "      <th>index</th>\n",
       "      <th></th>\n",
       "      <th></th>\n",
       "      <th></th>\n",
       "      <th></th>\n",
       "    </tr>\n",
       "  </thead>\n",
       "  <tbody>\n",
       "    <tr>\n",
       "      <th>2022-01-28</th>\n",
       "      <td>1052419</td>\n",
       "      <td>NaN</td>\n",
       "      <td>NaN</td>\n",
       "      <td>NaN</td>\n",
       "    </tr>\n",
       "    <tr>\n",
       "      <th>2022-02-28</th>\n",
       "      <td>1233715</td>\n",
       "      <td>NaN</td>\n",
       "      <td>NaN</td>\n",
       "      <td>NaN</td>\n",
       "    </tr>\n",
       "    <tr>\n",
       "      <th>2022-03-28</th>\n",
       "      <td>1893445</td>\n",
       "      <td>NaN</td>\n",
       "      <td>NaN</td>\n",
       "      <td>NaN</td>\n",
       "    </tr>\n",
       "    <tr>\n",
       "      <th>2022-04-28</th>\n",
       "      <td>2319614</td>\n",
       "      <td>NaN</td>\n",
       "      <td>NaN</td>\n",
       "      <td>NaN</td>\n",
       "    </tr>\n",
       "    <tr>\n",
       "      <th>2022-05-28</th>\n",
       "      <td>2940601</td>\n",
       "      <td>NaN</td>\n",
       "      <td>NaN</td>\n",
       "      <td>NaN</td>\n",
       "    </tr>\n",
       "  </tbody>\n",
       "</table>\n",
       "</div>"
      ],
      "text/plain": [
       "              trips  nyc_population  dom_tourism  int_tourism\n",
       "index                                                        \n",
       "2022-01-28  1052419             NaN          NaN          NaN\n",
       "2022-02-28  1233715             NaN          NaN          NaN\n",
       "2022-03-28  1893445             NaN          NaN          NaN\n",
       "2022-04-28  2319614             NaN          NaN          NaN\n",
       "2022-05-28  2940601             NaN          NaN          NaN"
      ]
     },
     "execution_count": 152,
     "metadata": {},
     "output_type": "execute_result"
    }
   ],
   "source": [
    "test.head()"
   ]
  },
  {
   "cell_type": "markdown",
   "metadata": {},
   "source": [
    "The trip data for the test set is present while the other features do not have the values for testing."
   ]
  },
  {
   "cell_type": "code",
   "execution_count": 157,
   "metadata": {},
   "outputs": [],
   "source": [
    "from statsmodels.tsa.stattools import pacf\n",
    "from statsmodels.graphics.tsaplots import plot_pacf, plot_acf"
   ]
  },
  {
   "cell_type": "code",
   "execution_count": 159,
   "metadata": {},
   "outputs": [
    {
     "data": {
      "image/png": "[encoded data removed]",
      "text/plain": [
       "<Figure size 432x288 with 1 Axes>"
      ]
     },
     "metadata": {
      "needs_background": "light"
     },
     "output_type": "display_data"
    }
   ],
   "source": [
    "plot_pacf(train_ss_diff1['trips'], method='ywm')\n",
    "plt.show()"
   ]
  },
  {
   "cell_type": "markdown",
   "metadata": {},
   "source": [
    "Here it shows the first 2 terms have significance"
   ]
  },
  {
   "cell_type": "code",
   "execution_count": 164,
   "metadata": {},
   "outputs": [],
   "source": [
    "from statsmodels.tsa.api import VAR\n",
    "from scipy.stats import pearsonr"
   ]
  },
  {
   "cell_type": "code",
   "execution_count": 167,
   "metadata": {},
   "outputs": [
    {
     "data": {
      "text/html": [
       "<div>\n",
       "<style scoped>\n",
       "    .dataframe tbody tr th:only-of-type {\n",
       "        vertical-align: middle;\n",
       "    }\n",
       "\n",
       "    .dataframe tbody tr th {\n",
       "        vertical-align: top;\n",
       "    }\n",
       "\n",
       "    .dataframe thead th {\n",
       "        text-align: right;\n",
       "    }\n",
       "</style>\n",
       "<table border=\"1\" class=\"dataframe\">\n",
       "  <thead>\n",
       "    <tr style=\"text-align: right;\">\n",
       "      <th></th>\n",
       "      <th>lag</th>\n",
       "      <th>pearson correlation</th>\n",
       "      <th>p-value</th>\n",
       "    </tr>\n",
       "  </thead>\n",
       "  <tbody>\n",
       "    <tr>\n",
       "      <th>0</th>\n",
       "      <td>1</td>\n",
       "      <td>-0.1344</td>\n",
       "      <td>0.1964</td>\n",
       "    </tr>\n",
       "    <tr>\n",
       "      <th>1</th>\n",
       "      <td>2</td>\n",
       "      <td>0.1415</td>\n",
       "      <td>0.1761</td>\n",
       "    </tr>\n",
       "    <tr>\n",
       "      <th>2</th>\n",
       "      <td>3</td>\n",
       "      <td>-0.0453</td>\n",
       "      <td>0.6683</td>\n",
       "    </tr>\n",
       "    <tr>\n",
       "      <th>3</th>\n",
       "      <td>4</td>\n",
       "      <td>0.1607</td>\n",
       "      <td>0.1282</td>\n",
       "    </tr>\n",
       "    <tr>\n",
       "      <th>4</th>\n",
       "      <td>5</td>\n",
       "      <td>0.0873</td>\n",
       "      <td>0.4130</td>\n",
       "    </tr>\n",
       "    <tr>\n",
       "      <th>5</th>\n",
       "      <td>6</td>\n",
       "      <td>0.0092</td>\n",
       "      <td>0.9320</td>\n",
       "    </tr>\n",
       "    <tr>\n",
       "      <th>6</th>\n",
       "      <td>7</td>\n",
       "      <td>-0.0058</td>\n",
       "      <td>0.9573</td>\n",
       "    </tr>\n",
       "    <tr>\n",
       "      <th>7</th>\n",
       "      <td>8</td>\n",
       "      <td>0.0666</td>\n",
       "      <td>0.5399</td>\n",
       "    </tr>\n",
       "    <tr>\n",
       "      <th>8</th>\n",
       "      <td>9</td>\n",
       "      <td>-0.0355</td>\n",
       "      <td>0.7459</td>\n",
       "    </tr>\n",
       "    <tr>\n",
       "      <th>9</th>\n",
       "      <td>10</td>\n",
       "      <td>-0.0810</td>\n",
       "      <td>0.4611</td>\n",
       "    </tr>\n",
       "    <tr>\n",
       "      <th>10</th>\n",
       "      <td>11</td>\n",
       "      <td>-0.0484</td>\n",
       "      <td>0.6623</td>\n",
       "    </tr>\n",
       "    <tr>\n",
       "      <th>11</th>\n",
       "      <td>12</td>\n",
       "      <td>-0.0546</td>\n",
       "      <td>0.6238</td>\n",
       "    </tr>\n",
       "    <tr>\n",
       "      <th>12</th>\n",
       "      <td>13</td>\n",
       "      <td>-0.0496</td>\n",
       "      <td>0.6583</td>\n",
       "    </tr>\n",
       "    <tr>\n",
       "      <th>13</th>\n",
       "      <td>14</td>\n",
       "      <td>0.1084</td>\n",
       "      <td>0.3353</td>\n",
       "    </tr>\n",
       "    <tr>\n",
       "      <th>14</th>\n",
       "      <td>15</td>\n",
       "      <td>0.0690</td>\n",
       "      <td>0.5429</td>\n",
       "    </tr>\n",
       "  </tbody>\n",
       "</table>\n",
       "</div>"
      ],
      "text/plain": [
       "    lag  pearson correlation  p-value\n",
       "0     1              -0.1344   0.1964\n",
       "1     2               0.1415   0.1761\n",
       "2     3              -0.0453   0.6683\n",
       "3     4               0.1607   0.1282\n",
       "4     5               0.0873   0.4130\n",
       "5     6               0.0092   0.9320\n",
       "6     7              -0.0058   0.9573\n",
       "7     8               0.0666   0.5399\n",
       "8     9              -0.0355   0.7459\n",
       "9    10              -0.0810   0.4611\n",
       "10   11              -0.0484   0.6623\n",
       "11   12              -0.0546   0.6238\n",
       "12   13              -0.0496   0.6583\n",
       "13   14               0.1084   0.3353\n",
       "14   15               0.0690   0.5429"
      ]
     },
     "execution_count": 167,
     "metadata": {},
     "output_type": "execute_result"
    }
   ],
   "source": [
    "results = []\n",
    "for lag in range(1, 16):\n",
    "    trips_vector = train_ss_diff1['trips'].iloc[lag:]\n",
    "    lagged_vector = train_ss_diff1['nyc_population'].iloc[:-lag]\n",
    "\n",
    "    result = pearsonr(trips_vector, lagged_vector)\n",
    "    result = [round(x, 4) for x in result]\n",
    "   \n",
    "    results.append({'lag': lag,\n",
    "                        'pearson correlation': result[0],\n",
    "                        'p-value': result[1]})\n",
    "    \n",
    "results = pd.DataFrame(results)\n",
    "results"
   ]
  },
  {
   "cell_type": "code",
   "execution_count": 168,
   "metadata": {},
   "outputs": [
    {
     "data": {
      "text/html": [
       "<div>\n",
       "<style scoped>\n",
       "    .dataframe tbody tr th:only-of-type {\n",
       "        vertical-align: middle;\n",
       "    }\n",
       "\n",
       "    .dataframe tbody tr th {\n",
       "        vertical-align: top;\n",
       "    }\n",
       "\n",
       "    .dataframe thead th {\n",
       "        text-align: right;\n",
       "    }\n",
       "</style>\n",
       "<table border=\"1\" class=\"dataframe\">\n",
       "  <thead>\n",
       "    <tr style=\"text-align: right;\">\n",
       "      <th></th>\n",
       "      <th>lag</th>\n",
       "      <th>pearson correlation</th>\n",
       "      <th>p-value</th>\n",
       "    </tr>\n",
       "  </thead>\n",
       "  <tbody>\n",
       "    <tr>\n",
       "      <th>0</th>\n",
       "      <td>1</td>\n",
       "      <td>-0.0094</td>\n",
       "      <td>0.9283</td>\n",
       "    </tr>\n",
       "    <tr>\n",
       "      <th>1</th>\n",
       "      <td>2</td>\n",
       "      <td>0.1264</td>\n",
       "      <td>0.2274</td>\n",
       "    </tr>\n",
       "    <tr>\n",
       "      <th>2</th>\n",
       "      <td>3</td>\n",
       "      <td>0.2036</td>\n",
       "      <td>0.0516</td>\n",
       "    </tr>\n",
       "    <tr>\n",
       "      <th>3</th>\n",
       "      <td>4</td>\n",
       "      <td>-0.1645</td>\n",
       "      <td>0.1193</td>\n",
       "    </tr>\n",
       "    <tr>\n",
       "      <th>4</th>\n",
       "      <td>5</td>\n",
       "      <td>-0.0660</td>\n",
       "      <td>0.5368</td>\n",
       "    </tr>\n",
       "    <tr>\n",
       "      <th>5</th>\n",
       "      <td>6</td>\n",
       "      <td>-0.0767</td>\n",
       "      <td>0.4751</td>\n",
       "    </tr>\n",
       "    <tr>\n",
       "      <th>6</th>\n",
       "      <td>7</td>\n",
       "      <td>-0.0610</td>\n",
       "      <td>0.5725</td>\n",
       "    </tr>\n",
       "    <tr>\n",
       "      <th>7</th>\n",
       "      <td>8</td>\n",
       "      <td>-0.0243</td>\n",
       "      <td>0.8236</td>\n",
       "    </tr>\n",
       "    <tr>\n",
       "      <th>8</th>\n",
       "      <td>9</td>\n",
       "      <td>0.0487</td>\n",
       "      <td>0.6562</td>\n",
       "    </tr>\n",
       "    <tr>\n",
       "      <th>9</th>\n",
       "      <td>10</td>\n",
       "      <td>0.0350</td>\n",
       "      <td>0.7505</td>\n",
       "    </tr>\n",
       "    <tr>\n",
       "      <th>10</th>\n",
       "      <td>11</td>\n",
       "      <td>0.1377</td>\n",
       "      <td>0.2115</td>\n",
       "    </tr>\n",
       "    <tr>\n",
       "      <th>11</th>\n",
       "      <td>12</td>\n",
       "      <td>-0.0037</td>\n",
       "      <td>0.9732</td>\n",
       "    </tr>\n",
       "    <tr>\n",
       "      <th>12</th>\n",
       "      <td>13</td>\n",
       "      <td>0.1549</td>\n",
       "      <td>0.1646</td>\n",
       "    </tr>\n",
       "    <tr>\n",
       "      <th>13</th>\n",
       "      <td>14</td>\n",
       "      <td>-0.2754</td>\n",
       "      <td>0.0128</td>\n",
       "    </tr>\n",
       "    <tr>\n",
       "      <th>14</th>\n",
       "      <td>15</td>\n",
       "      <td>-0.1568</td>\n",
       "      <td>0.1649</td>\n",
       "    </tr>\n",
       "  </tbody>\n",
       "</table>\n",
       "</div>"
      ],
      "text/plain": [
       "    lag  pearson correlation  p-value\n",
       "0     1              -0.0094   0.9283\n",
       "1     2               0.1264   0.2274\n",
       "2     3               0.2036   0.0516\n",
       "3     4              -0.1645   0.1193\n",
       "4     5              -0.0660   0.5368\n",
       "5     6              -0.0767   0.4751\n",
       "6     7              -0.0610   0.5725\n",
       "7     8              -0.0243   0.8236\n",
       "8     9               0.0487   0.6562\n",
       "9    10               0.0350   0.7505\n",
       "10   11               0.1377   0.2115\n",
       "11   12              -0.0037   0.9732\n",
       "12   13               0.1549   0.1646\n",
       "13   14              -0.2754   0.0128\n",
       "14   15              -0.1568   0.1649"
      ]
     },
     "execution_count": 168,
     "metadata": {},
     "output_type": "execute_result"
    }
   ],
   "source": [
    "results = []\n",
    "for lag in range(1, 16):\n",
    "    trips_vector = train_ss_diff1['trips'].iloc[lag:]\n",
    "    lagged_vector = train_ss_diff1['dom_tourism'].iloc[:-lag]\n",
    "\n",
    "    result = pearsonr(trips_vector, lagged_vector)\n",
    "    result = [round(x, 4) for x in result]\n",
    "   \n",
    "    results.append({'lag': lag,\n",
    "                        'pearson correlation': result[0],\n",
    "                        'p-value': result[1]})\n",
    "    \n",
    "results = pd.DataFrame(results)\n",
    "results"
   ]
  },
  {
   "cell_type": "code",
   "execution_count": 170,
   "metadata": {},
   "outputs": [
    {
     "data": {
      "text/html": [
       "<div>\n",
       "<style scoped>\n",
       "    .dataframe tbody tr th:only-of-type {\n",
       "        vertical-align: middle;\n",
       "    }\n",
       "\n",
       "    .dataframe tbody tr th {\n",
       "        vertical-align: top;\n",
       "    }\n",
       "\n",
       "    .dataframe thead th {\n",
       "        text-align: right;\n",
       "    }\n",
       "</style>\n",
       "<table border=\"1\" class=\"dataframe\">\n",
       "  <thead>\n",
       "    <tr style=\"text-align: right;\">\n",
       "      <th></th>\n",
       "      <th>lag</th>\n",
       "      <th>pearson correlation</th>\n",
       "      <th>p-value</th>\n",
       "    </tr>\n",
       "  </thead>\n",
       "  <tbody>\n",
       "    <tr>\n",
       "      <th>0</th>\n",
       "      <td>1</td>\n",
       "      <td>0.0338</td>\n",
       "      <td>0.7466</td>\n",
       "    </tr>\n",
       "    <tr>\n",
       "      <th>1</th>\n",
       "      <td>2</td>\n",
       "      <td>0.0431</td>\n",
       "      <td>0.6815</td>\n",
       "    </tr>\n",
       "    <tr>\n",
       "      <th>2</th>\n",
       "      <td>3</td>\n",
       "      <td>0.1497</td>\n",
       "      <td>0.1544</td>\n",
       "    </tr>\n",
       "    <tr>\n",
       "      <th>3</th>\n",
       "      <td>4</td>\n",
       "      <td>-0.2427</td>\n",
       "      <td>0.0205</td>\n",
       "    </tr>\n",
       "    <tr>\n",
       "      <th>4</th>\n",
       "      <td>5</td>\n",
       "      <td>-0.1172</td>\n",
       "      <td>0.2711</td>\n",
       "    </tr>\n",
       "    <tr>\n",
       "      <th>5</th>\n",
       "      <td>6</td>\n",
       "      <td>-0.0727</td>\n",
       "      <td>0.4986</td>\n",
       "    </tr>\n",
       "    <tr>\n",
       "      <th>6</th>\n",
       "      <td>7</td>\n",
       "      <td>-0.0672</td>\n",
       "      <td>0.5338</td>\n",
       "    </tr>\n",
       "    <tr>\n",
       "      <th>7</th>\n",
       "      <td>8</td>\n",
       "      <td>-0.0471</td>\n",
       "      <td>0.6652</td>\n",
       "    </tr>\n",
       "    <tr>\n",
       "      <th>8</th>\n",
       "      <td>9</td>\n",
       "      <td>0.0800</td>\n",
       "      <td>0.4641</td>\n",
       "    </tr>\n",
       "    <tr>\n",
       "      <th>9</th>\n",
       "      <td>10</td>\n",
       "      <td>0.1455</td>\n",
       "      <td>0.1841</td>\n",
       "    </tr>\n",
       "    <tr>\n",
       "      <th>10</th>\n",
       "      <td>11</td>\n",
       "      <td>0.2029</td>\n",
       "      <td>0.0641</td>\n",
       "    </tr>\n",
       "    <tr>\n",
       "      <th>11</th>\n",
       "      <td>12</td>\n",
       "      <td>-0.0044</td>\n",
       "      <td>0.9686</td>\n",
       "    </tr>\n",
       "    <tr>\n",
       "      <th>12</th>\n",
       "      <td>13</td>\n",
       "      <td>0.1568</td>\n",
       "      <td>0.1594</td>\n",
       "    </tr>\n",
       "    <tr>\n",
       "      <th>13</th>\n",
       "      <td>14</td>\n",
       "      <td>-0.2794</td>\n",
       "      <td>0.0116</td>\n",
       "    </tr>\n",
       "    <tr>\n",
       "      <th>14</th>\n",
       "      <td>15</td>\n",
       "      <td>-0.1565</td>\n",
       "      <td>0.1657</td>\n",
       "    </tr>\n",
       "  </tbody>\n",
       "</table>\n",
       "</div>"
      ],
      "text/plain": [
       "    lag  pearson correlation  p-value\n",
       "0     1               0.0338   0.7466\n",
       "1     2               0.0431   0.6815\n",
       "2     3               0.1497   0.1544\n",
       "3     4              -0.2427   0.0205\n",
       "4     5              -0.1172   0.2711\n",
       "5     6              -0.0727   0.4986\n",
       "6     7              -0.0672   0.5338\n",
       "7     8              -0.0471   0.6652\n",
       "8     9               0.0800   0.4641\n",
       "9    10               0.1455   0.1841\n",
       "10   11               0.2029   0.0641\n",
       "11   12              -0.0044   0.9686\n",
       "12   13               0.1568   0.1594\n",
       "13   14              -0.2794   0.0116\n",
       "14   15              -0.1565   0.1657"
      ]
     },
     "execution_count": 170,
     "metadata": {},
     "output_type": "execute_result"
    }
   ],
   "source": [
    "results = []\n",
    "for lag in range(1, 16):\n",
    "    trips_vector = train_ss_diff1['trips'].iloc[lag:]\n",
    "    lagged_vector = train_ss_diff1['int_tourism'].iloc[:-lag]\n",
    "\n",
    "    result = pearsonr(trips_vector, lagged_vector)\n",
    "    result = [round(x, 4) for x in result]\n",
    "   \n",
    "    results.append({'lag': lag,\n",
    "                        'pearson correlation': result[0],\n",
    "                        'p-value': result[1]})\n",
    "    \n",
    "results = pd.DataFrame(results)\n",
    "results"
   ]
  },
  {
   "cell_type": "markdown",
   "metadata": {},
   "source": [
    "The model to use looks like LAG 4 For Domestic Tourism, LAG 14 for International Tourism, and nothing for population."
   ]
  },
  {
   "cell_type": "code",
   "execution_count": 171,
   "metadata": {},
   "outputs": [
    {
     "name": "stderr",
     "output_type": "stream",
     "text": [
      "/usr/local/lib/python3.9/site-packages/statsmodels/tsa/base/tsa_model.py:581: ValueWarning: A date index has been provided, but it has no associated frequency information and so will be ignored when e.g. forecasting.\n",
      "  warnings.warn('A date index has been provided, but it has no'\n"
     ]
    }
   ],
   "source": [
    "# modeling\n",
    "model = VAR(train_ss_diff1)"
   ]
  },
  {
   "cell_type": "code",
   "execution_count": 185,
   "metadata": {},
   "outputs": [],
   "source": [
    "results = model.fit(maxlags=15, ic='aic') # 3-4 max"
   ]
  },
  {
   "cell_type": "code",
   "execution_count": 186,
   "metadata": {},
   "outputs": [
    {
     "data": {
      "image/png": "[encoded data removed]",
      "text/plain": [
       "<Figure size 720x720 with 4 Axes>"
      ]
     },
     "metadata": {
      "needs_background": "light"
     },
     "output_type": "display_data"
    }
   ],
   "source": [
    "results.plot()\n",
    "plt.show()"
   ]
  },
  {
   "cell_type": "code",
   "execution_count": 187,
   "metadata": {
    "scrolled": true
   },
   "outputs": [
    {
     "data": {
      "image/png": "[encoded data removed]",
      "text/plain": [
       "<Figure size 720x720 with 16 Axes>"
      ]
     },
     "metadata": {
      "needs_background": "light"
     },
     "output_type": "display_data"
    }
   ],
   "source": [
    "results.plot_acorr()\n",
    "plt.show()"
   ]
  },
  {
   "cell_type": "code",
   "execution_count": 188,
   "metadata": {},
   "outputs": [
    {
     "data": {
      "text/plain": [
       "  Summary of Regression Results   \n",
       "==================================\n",
       "Model:                         VAR\n",
       "Method:                        OLS\n",
       "Date:           Mon, 10, Apr, 2023\n",
       "Time:                     15:53:45\n",
       "--------------------------------------------------------------------\n",
       "No. of Equations:         4.00000    BIC:                   -12.7603\n",
       "Nobs:                     80.0000    HQIC:                  -17.1126\n",
       "Log likelihood:           590.957    FPE:                1.36688e-08\n",
       "AIC:                     -20.0254    Det(Omega_mle):     1.41649e-09\n",
       "--------------------------------------------------------------------\n",
       "Results for equation trips\n",
       "=====================================================================================\n",
       "                        coefficient       std. error           t-stat            prob\n",
       "-------------------------------------------------------------------------------------\n",
       "const                      0.172315         0.094610            1.821           0.069\n",
       "L1.trips                  -0.233981         0.228376           -1.025           0.306\n",
       "L1.nyc_population          0.070401         0.650300            0.108           0.914\n",
       "L1.dom_tourism            -1.621190         2.120884           -0.764           0.445\n",
       "L1.int_tourism             2.273258         2.615782            0.869           0.385\n",
       "L2.trips                  -0.321137         0.220336           -1.457           0.145\n",
       "L2.nyc_population          1.575675         0.591059            2.666           0.008\n",
       "L2.dom_tourism             4.196006         1.941440            2.161           0.031\n",
       "L2.int_tourism            -3.863111         2.413601           -1.601           0.109\n",
       "L3.trips                  -0.619946         0.277277           -2.236           0.025\n",
       "L3.nyc_population         -0.566733         0.631578           -0.897           0.370\n",
       "L3.dom_tourism            -1.118891         2.224641           -0.503           0.615\n",
       "L3.int_tourism             1.270497         2.568211            0.495           0.621\n",
       "L4.trips                  -0.396808         0.287873           -1.378           0.168\n",
       "L4.nyc_population          0.124976         0.151609            0.824           0.410\n",
       "L4.dom_tourism             0.731248         0.703556            1.039           0.299\n",
       "L4.int_tourism            -0.926471         0.871016           -1.064           0.287\n",
       "L5.trips                  -0.352957         0.260277           -1.356           0.175\n",
       "L5.nyc_population         -0.071602         0.152648           -0.469           0.639\n",
       "L5.dom_tourism             0.598646         0.698909            0.857           0.392\n",
       "L5.int_tourism            -0.752224         0.879847           -0.855           0.393\n",
       "L6.trips                  -0.400074         0.263628           -1.518           0.129\n",
       "L6.nyc_population          0.034419         0.139449            0.247           0.805\n",
       "L6.dom_tourism            -0.054887         0.696380           -0.079           0.937\n",
       "L6.int_tourism             0.279076         0.861540            0.324           0.746\n",
       "L7.trips                  -0.325246         0.257258           -1.264           0.206\n",
       "L7.nyc_population         -0.096998         0.132644           -0.731           0.465\n",
       "L7.dom_tourism             0.585148         0.587317            0.996           0.319\n",
       "L7.int_tourism            -0.749254         0.789635           -0.949           0.343\n",
       "L8.trips                  -0.541764         0.243173           -2.228           0.026\n",
       "L8.nyc_population          0.110295         0.142984            0.771           0.440\n",
       "L8.dom_tourism             0.706621         0.579301            1.220           0.223\n",
       "L8.int_tourism            -0.961434         0.792883           -1.213           0.225\n",
       "L9.trips                  -0.505086         0.268050           -1.884           0.060\n",
       "L9.nyc_population         -0.086453         0.139542           -0.620           0.536\n",
       "L9.dom_tourism             0.408593         0.527349            0.775           0.438\n",
       "L9.int_tourism            -0.562655         0.764557           -0.736           0.462\n",
       "L10.trips                 -0.383920         0.281260           -1.365           0.172\n",
       "L10.nyc_population         0.304920         0.144460            2.111           0.035\n",
       "L10.dom_tourism           -0.781849         0.557758           -1.402           0.161\n",
       "L10.int_tourism            1.021303         0.767511            1.331           0.183\n",
       "L11.trips                  0.116450         0.353267            0.330           0.742\n",
       "L11.nyc_population         0.042633         0.153553            0.278           0.781\n",
       "L11.dom_tourism            0.405325         0.570093            0.711           0.477\n",
       "L11.int_tourism           -0.200528         0.791861           -0.253           0.800\n",
       "L12.trips                 -0.162556         0.287867           -0.565           0.572\n",
       "L12.nyc_population        -0.192517         0.177139           -1.087           0.277\n",
       "L12.dom_tourism            0.173112         2.345776            0.074           0.941\n",
       "L12.int_tourism           -0.333735         2.896826           -0.115           0.908\n",
       "L13.trips                  0.387810         0.255131            1.520           0.128\n",
       "L13.nyc_population         0.027533         0.568384            0.048           0.961\n",
       "L13.dom_tourism           -0.812463         4.968592           -0.164           0.870\n",
       "L13.int_tourism            0.981665         6.064382            0.162           0.871\n",
       "L14.trips                 -0.177825         0.231795           -0.767           0.443\n",
       "L14.nyc_population        -0.706629         0.489481           -1.444           0.149\n",
       "L14.dom_tourism            0.886705         5.360402            0.165           0.869\n",
       "L14.int_tourism            0.945733         6.769233            0.140           0.889\n",
       "L15.trips                 -0.193933         0.275512           -0.704           0.481\n",
       "L15.nyc_population         0.233789         0.506099            0.462           0.644\n",
       "L15.dom_tourism           -3.747052         5.402814           -0.694           0.488\n",
       "L15.int_tourism            3.699368         6.662861            0.555           0.579\n",
       "=====================================================================================\n",
       "\n",
       "Results for equation nyc_population\n",
       "=====================================================================================\n",
       "                        coefficient       std. error           t-stat            prob\n",
       "-------------------------------------------------------------------------------------\n",
       "const                     -0.310140         0.110081           -2.817           0.005\n",
       "L1.trips                   0.146680         0.265722            0.552           0.581\n",
       "L1.nyc_population         -1.013557         0.756645           -1.340           0.180\n",
       "L1.dom_tourism             2.894816         2.467716            1.173           0.241\n",
       "L1.int_tourism            -4.319854         3.043546           -1.419           0.156\n",
       "L2.trips                   0.585538         0.256369            2.284           0.022\n",
       "L2.nyc_population         -0.562944         0.687716           -0.819           0.413\n",
       "L2.dom_tourism             0.629987         2.258928            0.279           0.780\n",
       "L2.int_tourism            -0.536770         2.808302           -0.191           0.848\n",
       "L3.trips                   0.290953         0.322621            0.902           0.367\n",
       "L3.nyc_population          0.228093         0.734861            0.310           0.756\n",
       "L3.dom_tourism             2.528023         2.588441            0.977           0.329\n",
       "L3.int_tourism            -2.776384         2.988196           -0.929           0.353\n",
       "L4.trips                   0.228184         0.334949            0.681           0.496\n",
       "L4.nyc_population         -0.048709         0.176401           -0.276           0.782\n",
       "L4.dom_tourism             0.009587         0.818611            0.012           0.991\n",
       "L4.int_tourism            -0.142561         1.013455           -0.141           0.888\n",
       "L5.trips                  -0.167084         0.302841           -0.552           0.581\n",
       "L5.nyc_population          0.260706         0.177611            1.468           0.142\n",
       "L5.dom_tourism            -0.651221         0.813203           -0.801           0.423\n",
       "L5.int_tourism             0.619589         1.023730            0.605           0.545\n",
       "L6.trips                   0.073029         0.306740            0.238           0.812\n",
       "L6.nyc_population         -0.052701         0.162253           -0.325           0.745\n",
       "L6.dom_tourism            -1.114176         0.810260           -1.375           0.169\n",
       "L6.int_tourism             1.406102         1.002430            1.403           0.161\n",
       "L7.trips                   0.115584         0.299328            0.386           0.699\n",
       "L7.nyc_population          0.138338         0.154336            0.896           0.370\n",
       "L7.dom_tourism            -0.647938         0.683363           -0.948           0.343\n",
       "L7.int_tourism             1.004425         0.918766            1.093           0.274\n",
       "L8.trips                   0.243224         0.282940            0.860           0.390\n",
       "L8.nyc_population         -0.119724         0.166367           -0.720           0.472\n",
       "L8.dom_tourism            -0.185891         0.674035           -0.276           0.783\n",
       "L8.int_tourism             0.566833         0.922544            0.614           0.539\n",
       "L9.trips                  -0.246318         0.311884           -0.790           0.430\n",
       "L9.nyc_population          0.213855         0.162362            1.317           0.188\n",
       "L9.dom_tourism            -0.684018         0.613587           -1.115           0.265\n",
       "L9.int_tourism             1.001559         0.889586            1.126           0.260\n",
       "L10.trips                  0.054068         0.327255            0.165           0.869\n",
       "L10.nyc_population        -0.043782         0.168084           -0.260           0.794\n",
       "L10.dom_tourism           -0.741325         0.648969           -1.142           0.253\n",
       "L10.int_tourism            0.974180         0.893023            1.091           0.275\n",
       "L11.trips                 -0.483401         0.411038           -1.176           0.240\n",
       "L11.nyc_population        -0.217693         0.178663           -1.218           0.223\n",
       "L11.dom_tourism            1.558404         0.663322            2.349           0.019\n",
       "L11.int_tourism           -2.390952         0.921356           -2.595           0.009\n",
       "L12.trips                  0.050842         0.334943            0.152           0.879\n",
       "L12.nyc_population         0.035165         0.206107            0.171           0.865\n",
       "L12.dom_tourism           12.200671         2.729386            4.470           0.000\n",
       "L12.int_tourism          -16.137102         3.370550           -4.788           0.000\n",
       "L13.trips                  0.115546         0.296853            0.389           0.697\n",
       "L13.nyc_population         0.706039         0.661333            1.068           0.286\n",
       "L13.dom_tourism            7.510481         5.781116            1.299           0.194\n",
       "L13.int_tourism           -9.375222         7.056103           -1.329           0.184\n",
       "L14.trips                  0.330922         0.269701            1.227           0.220\n",
       "L14.nyc_population         0.095811         0.569526            0.168           0.866\n",
       "L14.dom_tourism           11.192429         6.237000            1.795           0.073\n",
       "L14.int_tourism          -14.115021         7.876220           -1.792           0.073\n",
       "L15.trips                 -0.012777         0.320567           -0.040           0.968\n",
       "L15.nyc_population        -0.048420         0.588863           -0.082           0.934\n",
       "L15.dom_tourism            5.079738         6.286347            0.808           0.419\n",
       "L15.int_tourism           -5.693355         7.752453           -0.734           0.463\n",
       "=====================================================================================\n",
       "\n",
       "Results for equation dom_tourism\n",
       "=====================================================================================\n",
       "                        coefficient       std. error           t-stat            prob\n",
       "-------------------------------------------------------------------------------------\n",
       "const                      0.265322         0.120511            2.202           0.028\n",
       "L1.trips                  -0.003707         0.290898           -0.013           0.990\n",
       "L1.nyc_population          1.093997         0.828333            1.321           0.187\n",
       "L1.dom_tourism            -2.896667         2.701520           -1.072           0.284\n",
       "L1.int_tourism             4.639669         3.331906            1.392           0.164\n",
       "L2.trips                  -0.501617         0.280658           -1.787           0.074\n",
       "L2.nyc_population          0.757452         0.752874            1.006           0.314\n",
       "L2.dom_tourism             0.251884         2.472949            0.102           0.919\n",
       "L2.int_tourism            -0.105544         3.074374           -0.034           0.973\n",
       "L3.trips                  -0.066942         0.353187           -0.190           0.850\n",
       "L3.nyc_population         -0.708544         0.804486           -0.881           0.378\n",
       "L3.dom_tourism            -2.741907         2.833682           -0.968           0.333\n",
       "L3.int_tourism             2.467902         3.271312            0.754           0.451\n",
       "L4.trips                  -0.258356         0.366684           -0.705           0.481\n",
       "L4.nyc_population          0.161629         0.193115            0.837           0.403\n",
       "L4.dom_tourism            -0.689800         0.896170           -0.770           0.441\n",
       "L4.int_tourism             0.932788         1.109475            0.841           0.400\n",
       "L5.trips                   0.021847         0.331533            0.066           0.947\n",
       "L5.nyc_population         -0.300001         0.194438           -1.543           0.123\n",
       "L5.dom_tourism             0.327792         0.890250            0.368           0.713\n",
       "L5.int_tourism            -0.307144         1.120723           -0.274           0.784\n",
       "L6.trips                  -0.061970         0.335802           -0.185           0.854\n",
       "L6.nyc_population          0.037572         0.177625            0.212           0.832\n",
       "L6.dom_tourism             1.414809         0.887028            1.595           0.111\n",
       "L6.int_tourism            -1.854429         1.097405           -1.690           0.091\n",
       "L7.trips                  -0.089932         0.327688           -0.274           0.784\n",
       "L7.nyc_population         -0.202470         0.168959           -1.198           0.231\n",
       "L7.dom_tourism             0.838930         0.748108            1.121           0.262\n",
       "L7.int_tourism            -1.147836         1.005814           -1.141           0.254\n",
       "L8.trips                  -0.099515         0.309747           -0.321           0.748\n",
       "L8.nyc_population          0.207836         0.182129            1.141           0.254\n",
       "L8.dom_tourism            -0.142995         0.737896           -0.194           0.846\n",
       "L8.int_tourism             0.058491         1.009951            0.058           0.954\n",
       "L9.trips                   0.361236         0.341434            1.058           0.290\n",
       "L9.nyc_population         -0.170792         0.177745           -0.961           0.337\n",
       "L9.dom_tourism             0.639300         0.671721            0.952           0.341\n",
       "L9.int_tourism            -0.919929         0.973870           -0.945           0.345\n",
       "L10.trips                 -0.340326         0.358261           -0.950           0.342\n",
       "L10.nyc_population        -0.008481         0.184009           -0.046           0.963\n",
       "L10.dom_tourism            0.957877         0.710455            1.348           0.178\n",
       "L10.int_tourism           -1.388252         0.977632           -1.420           0.156\n",
       "L11.trips                  0.445506         0.449982            0.990           0.322\n",
       "L11.nyc_population         0.135738         0.195591            0.694           0.488\n",
       "L11.dom_tourism           -1.743224         0.726168           -2.401           0.016\n",
       "L11.int_tourism            2.537492         1.008650            2.516           0.012\n",
       "L12.trips                  0.137152         0.366677            0.374           0.708\n",
       "L12.nyc_population         0.917290         0.225635            4.065           0.000\n",
       "L12.dom_tourism          -16.526897         2.987981           -5.531           0.000\n",
       "L12.int_tourism           20.688463         3.689892            5.607           0.000\n",
       "L13.trips                 -0.232241         0.324978           -0.715           0.475\n",
       "L13.nyc_population        -0.876151         0.723991           -1.210           0.226\n",
       "L13.dom_tourism           -2.037055         6.328846           -0.322           0.748\n",
       "L13.int_tourism            2.640043         7.724632            0.342           0.733\n",
       "L14.trips                 -0.537524         0.295253           -1.821           0.069\n",
       "L14.nyc_population        -0.414861         0.623486           -0.665           0.506\n",
       "L14.dom_tourism           -7.684111         6.827923           -1.125           0.260\n",
       "L14.int_tourism            9.871944         8.622450            1.145           0.252\n",
       "L15.trips                  0.174340         0.350939            0.497           0.619\n",
       "L15.nyc_population         0.510955         0.644655            0.793           0.428\n",
       "L15.dom_tourism           -8.456525         6.881946           -1.229           0.219\n",
       "L15.int_tourism            9.606074         8.486957            1.132           0.258\n",
       "=====================================================================================\n",
       "\n",
       "Results for equation int_tourism\n",
       "=====================================================================================\n",
       "                        coefficient       std. error           t-stat            prob\n",
       "-------------------------------------------------------------------------------------\n",
       "const                      0.180922         0.090697            1.995           0.046\n",
       "L1.trips                  -0.018334         0.218931           -0.084           0.933\n",
       "L1.nyc_population          0.737761         0.623405            1.183           0.237\n",
       "L1.dom_tourism            -2.236146         2.033171           -1.100           0.271\n",
       "L1.int_tourism             3.521167         2.507601            1.404           0.160\n",
       "L2.trips                  -0.343457         0.211224           -1.626           0.104\n",
       "L2.nyc_population          0.570789         0.566615            1.007           0.314\n",
       "L2.dom_tourism             0.421689         1.861148            0.227           0.821\n",
       "L2.int_tourism            -0.317606         2.313782           -0.137           0.891\n",
       "L3.trips                  -0.019377         0.265810           -0.073           0.942\n",
       "L3.nyc_population         -0.550267         0.605458           -0.909           0.363\n",
       "L3.dom_tourism            -1.914948         2.132637           -0.898           0.369\n",
       "L3.int_tourism             1.680549         2.461998            0.683           0.495\n",
       "L4.trips                  -0.185419         0.275967           -0.672           0.502\n",
       "L4.nyc_population          0.130598         0.145338            0.899           0.369\n",
       "L4.dom_tourism            -0.528263         0.674460           -0.783           0.433\n",
       "L4.int_tourism             0.721900         0.834994            0.865           0.387\n",
       "L5.trips                   0.009708         0.249513            0.039           0.969\n",
       "L5.nyc_population         -0.218500         0.146335           -1.493           0.135\n",
       "L5.dom_tourism             0.215987         0.670005            0.322           0.747\n",
       "L5.int_tourism            -0.212199         0.843459           -0.252           0.801\n",
       "L6.trips                  -0.064835         0.252725           -0.257           0.798\n",
       "L6.nyc_population          0.038130         0.133681            0.285           0.775\n",
       "L6.dom_tourism             0.991601         0.667580            1.485           0.137\n",
       "L6.int_tourism            -1.317283         0.825910           -1.595           0.111\n",
       "L7.trips                  -0.051940         0.246619           -0.211           0.833\n",
       "L7.nyc_population         -0.162440         0.127159           -1.277           0.201\n",
       "L7.dom_tourism             0.593629         0.563028            1.054           0.292\n",
       "L7.int_tourism            -0.802013         0.756979           -1.059           0.289\n",
       "L8.trips                  -0.082082         0.233116           -0.352           0.725\n",
       "L8.nyc_population          0.162806         0.137071            1.188           0.235\n",
       "L8.dom_tourism            -0.114819         0.555343           -0.207           0.836\n",
       "L8.int_tourism             0.075056         0.760092            0.099           0.921\n",
       "L9.trips                   0.298150         0.256964            1.160           0.246\n",
       "L9.nyc_population         -0.119139         0.133771           -0.891           0.373\n",
       "L9.dom_tourism             0.407174         0.505539            0.805           0.421\n",
       "L9.int_tourism            -0.569400         0.732937           -0.777           0.437\n",
       "L10.trips                 -0.305569         0.269628           -1.133           0.257\n",
       "L10.nyc_population        -0.003387         0.138486           -0.024           0.980\n",
       "L10.dom_tourism            0.745480         0.534691            1.394           0.163\n",
       "L10.int_tourism           -1.090642         0.735769           -1.482           0.138\n",
       "L11.trips                  0.318918         0.338657            0.942           0.346\n",
       "L11.nyc_population         0.089121         0.147202            0.605           0.545\n",
       "L11.dom_tourism           -1.331646         0.546516           -2.437           0.015\n",
       "L11.int_tourism            1.920038         0.759112            2.529           0.011\n",
       "L12.trips                  0.108039         0.275962            0.391           0.695\n",
       "L12.nyc_population         0.740321         0.169814            4.360           0.000\n",
       "L12.dom_tourism          -12.604451         2.248762           -5.605           0.000\n",
       "L12.int_tourism           16.025836         2.777022            5.771           0.000\n",
       "L13.trips                 -0.170447         0.244579           -0.697           0.486\n",
       "L13.nyc_population        -0.635119         0.544878           -1.166           0.244\n",
       "L13.dom_tourism           -0.762608         4.763106           -0.160           0.873\n",
       "L13.int_tourism            0.943814         5.813578            0.162           0.871\n",
       "L14.trips                 -0.379875         0.222208           -1.710           0.087\n",
       "L14.nyc_population        -0.317260         0.469237           -0.676           0.499\n",
       "L14.dom_tourism           -4.897480         5.138713           -0.953           0.341\n",
       "L14.int_tourism            6.393408         6.489279            0.985           0.325\n",
       "L15.trips                  0.125544         0.264118            0.475           0.635\n",
       "L15.nyc_population         0.394447         0.485169            0.813           0.416\n",
       "L15.dom_tourism           -6.050967         5.179370           -1.168           0.243\n",
       "L15.int_tourism            6.844278         6.387306            1.072           0.284\n",
       "=====================================================================================\n",
       "\n",
       "Correlation matrix of residuals\n",
       "                     trips  nyc_population  dom_tourism  int_tourism\n",
       "trips             1.000000        0.378679    -0.374794    -0.373528\n",
       "nyc_population    0.378679        1.000000    -0.967448    -0.962657\n",
       "dom_tourism      -0.374794       -0.967448     1.000000     0.995898\n",
       "int_tourism      -0.373528       -0.962657     0.995898     1.000000\n",
       "\n"
      ]
     },
     "execution_count": 188,
     "metadata": {},
     "output_type": "execute_result"
    }
   ],
   "source": [
    "results.summary()"
   ]
  },
  {
   "cell_type": "code",
   "execution_count": 189,
   "metadata": {},
   "outputs": [],
   "source": [
    "lag_order = results.k_ar"
   ]
  },
  {
   "cell_type": "code",
   "execution_count": 190,
   "metadata": {},
   "outputs": [
    {
     "data": {
      "text/plain": [
       "15"
      ]
     },
     "execution_count": 190,
     "metadata": {},
     "output_type": "execute_result"
    }
   ],
   "source": [
    "results.k_ar"
   ]
  },
  {
   "cell_type": "code",
   "execution_count": 191,
   "metadata": {},
   "outputs": [
    {
     "data": {
      "text/plain": [
       "array([[ -1.19311218,   9.47994509, -11.61561049,  -8.87706021],\n",
       "       [ -0.38242538,   0.65705225,   0.97395879,   0.89193295],\n",
       "       [  1.23276393,  -1.73679604,   1.45906007,   1.07710724],\n",
       "       [ -2.99109175,   1.84468879,  -2.65725863,  -2.04729561],\n",
       "       [  1.61783793,   1.30060411,  -0.96328945,  -0.61748882],\n",
       "       [  0.74669724,   0.38311049,   0.18820455,   0.18556298],\n",
       "       [  0.40312022,  -2.05343691,   1.24780287,   0.95966037],\n",
       "       [  0.67118088,   0.22816029,  -1.34860298,  -1.18155671],\n",
       "       [ -0.45213562,   0.7762601 ,  -0.79483821,  -0.55286595],\n",
       "       [  0.14762242,   1.49210806,  -0.91978197,  -0.60060189],\n",
       "       [  1.8491619 ,  -1.72092813,   2.19264455,   1.65003897],\n",
       "       [ -1.63296976,  -1.33842646,   1.02997168,   0.69806401]])"
      ]
     },
     "execution_count": 191,
     "metadata": {},
     "output_type": "execute_result"
    }
   ],
   "source": [
    "results.forecast(train_ss_diff1.values[-lag_order:],12)"
   ]
  },
  {
   "cell_type": "code",
   "execution_count": 183,
   "metadata": {},
   "outputs": [
    {
     "ename": "TypeError",
     "evalue": "predict() missing 1 required positional argument: 'params'",
     "output_type": "error",
     "traceback": [
      "\u001b[0;31m---------------------------------------------------------------------------\u001b[0m",
      "\u001b[0;31mTypeError\u001b[0m                                 Traceback (most recent call last)",
      "\u001b[0;32m<ipython-input-183-c14c5ee82961>\u001b[0m in \u001b[0;36m<module>\u001b[0;34m\u001b[0m\n\u001b[0;32m----> 1\u001b[0;31m \u001b[0mmodel\u001b[0m\u001b[0;34m.\u001b[0m\u001b[0mpredict\u001b[0m\u001b[0;34m(\u001b[0m\u001b[0;34m)\u001b[0m\u001b[0;34m\u001b[0m\u001b[0;34m\u001b[0m\u001b[0m\n\u001b[0m",
      "\u001b[0;31mTypeError\u001b[0m: predict() missing 1 required positional argument: 'params'"
     ]
    }
   ],
   "source": []
  },
  {
   "cell_type": "code",
   "execution_count": null,
   "metadata": {},
   "outputs": [],
   "source": []
  }
 ],
 "metadata": {
  "kernelspec": {
   "display_name": "Python 3",
   "language": "python",
   "name": "python3"
  },
  "language_info": {
   "codemirror_mode": {
    "name": "ipython",
    "version": 3
   },
   "file_extension": ".py",
   "mimetype": "text/x-python",
   "name": "python",
   "nbconvert_exporter": "python",
   "pygments_lexer": "ipython3",
   "version": "3.9.4"
  }
 },
 "nbformat": 4,
 "nbformat_minor": 4
}
